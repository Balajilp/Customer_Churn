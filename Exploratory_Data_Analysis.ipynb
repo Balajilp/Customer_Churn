{
 "cells": [
  {
   "cell_type": "code",
   "execution_count": 1,
   "id": "1f0d188d",
   "metadata": {},
   "outputs": [
    {
     "data": {
      "text/html": [
       "<div>\n",
       "<style scoped>\n",
       "    .dataframe tbody tr th:only-of-type {\n",
       "        vertical-align: middle;\n",
       "    }\n",
       "\n",
       "    .dataframe tbody tr th {\n",
       "        vertical-align: top;\n",
       "    }\n",
       "\n",
       "    .dataframe thead th {\n",
       "        text-align: right;\n",
       "    }\n",
       "</style>\n",
       "<table border=\"1\" class=\"dataframe\">\n",
       "  <thead>\n",
       "    <tr style=\"text-align: right;\">\n",
       "      <th></th>\n",
       "      <th>customerID</th>\n",
       "      <th>gender</th>\n",
       "      <th>SeniorCitizen</th>\n",
       "      <th>Partner</th>\n",
       "      <th>Dependents</th>\n",
       "      <th>tenure</th>\n",
       "      <th>PhoneService</th>\n",
       "      <th>MultipleLines</th>\n",
       "      <th>InternetService</th>\n",
       "      <th>OnlineSecurity</th>\n",
       "      <th>OnlineBackup</th>\n",
       "      <th>DeviceProtection</th>\n",
       "      <th>TechSupport</th>\n",
       "      <th>StreamingTV</th>\n",
       "      <th>StreamingMovies</th>\n",
       "      <th>Contract</th>\n",
       "      <th>PaperlessBilling</th>\n",
       "      <th>PaymentMethod</th>\n",
       "      <th>MonthlyCharges</th>\n",
       "      <th>Churn</th>\n",
       "    </tr>\n",
       "  </thead>\n",
       "  <tbody>\n",
       "    <tr>\n",
       "      <th>0</th>\n",
       "      <td>7590-VHVEG</td>\n",
       "      <td>Female</td>\n",
       "      <td>0</td>\n",
       "      <td>Yes</td>\n",
       "      <td>No</td>\n",
       "      <td>1</td>\n",
       "      <td>No</td>\n",
       "      <td>No phone service</td>\n",
       "      <td>DSL</td>\n",
       "      <td>No</td>\n",
       "      <td>Yes</td>\n",
       "      <td>No</td>\n",
       "      <td>No</td>\n",
       "      <td>No</td>\n",
       "      <td>No</td>\n",
       "      <td>Month-to-month</td>\n",
       "      <td>Yes</td>\n",
       "      <td>Electronic check</td>\n",
       "      <td>29.85</td>\n",
       "      <td>No</td>\n",
       "    </tr>\n",
       "    <tr>\n",
       "      <th>1</th>\n",
       "      <td>5575-GNVDE</td>\n",
       "      <td>Male</td>\n",
       "      <td>0</td>\n",
       "      <td>No</td>\n",
       "      <td>No</td>\n",
       "      <td>34</td>\n",
       "      <td>Yes</td>\n",
       "      <td>No</td>\n",
       "      <td>DSL</td>\n",
       "      <td>Yes</td>\n",
       "      <td>No</td>\n",
       "      <td>Yes</td>\n",
       "      <td>No</td>\n",
       "      <td>No</td>\n",
       "      <td>No</td>\n",
       "      <td>One year</td>\n",
       "      <td>No</td>\n",
       "      <td>Mailed check</td>\n",
       "      <td>56.95</td>\n",
       "      <td>No</td>\n",
       "    </tr>\n",
       "    <tr>\n",
       "      <th>2</th>\n",
       "      <td>3668-QPYBK</td>\n",
       "      <td>Male</td>\n",
       "      <td>0</td>\n",
       "      <td>No</td>\n",
       "      <td>No</td>\n",
       "      <td>2</td>\n",
       "      <td>Yes</td>\n",
       "      <td>No</td>\n",
       "      <td>DSL</td>\n",
       "      <td>Yes</td>\n",
       "      <td>Yes</td>\n",
       "      <td>No</td>\n",
       "      <td>No</td>\n",
       "      <td>No</td>\n",
       "      <td>No</td>\n",
       "      <td>Month-to-month</td>\n",
       "      <td>Yes</td>\n",
       "      <td>Mailed check</td>\n",
       "      <td>53.85</td>\n",
       "      <td>Yes</td>\n",
       "    </tr>\n",
       "    <tr>\n",
       "      <th>3</th>\n",
       "      <td>7795-CFOCW</td>\n",
       "      <td>Male</td>\n",
       "      <td>0</td>\n",
       "      <td>No</td>\n",
       "      <td>No</td>\n",
       "      <td>45</td>\n",
       "      <td>No</td>\n",
       "      <td>No phone service</td>\n",
       "      <td>DSL</td>\n",
       "      <td>Yes</td>\n",
       "      <td>No</td>\n",
       "      <td>Yes</td>\n",
       "      <td>Yes</td>\n",
       "      <td>No</td>\n",
       "      <td>No</td>\n",
       "      <td>One year</td>\n",
       "      <td>No</td>\n",
       "      <td>Bank transfer (automatic)</td>\n",
       "      <td>42.30</td>\n",
       "      <td>No</td>\n",
       "    </tr>\n",
       "    <tr>\n",
       "      <th>4</th>\n",
       "      <td>9237-HQITU</td>\n",
       "      <td>Female</td>\n",
       "      <td>0</td>\n",
       "      <td>No</td>\n",
       "      <td>No</td>\n",
       "      <td>2</td>\n",
       "      <td>Yes</td>\n",
       "      <td>No</td>\n",
       "      <td>Fiber optic</td>\n",
       "      <td>No</td>\n",
       "      <td>No</td>\n",
       "      <td>No</td>\n",
       "      <td>No</td>\n",
       "      <td>No</td>\n",
       "      <td>No</td>\n",
       "      <td>Month-to-month</td>\n",
       "      <td>Yes</td>\n",
       "      <td>Electronic check</td>\n",
       "      <td>NaN</td>\n",
       "      <td>Yes</td>\n",
       "    </tr>\n",
       "  </tbody>\n",
       "</table>\n",
       "</div>"
      ],
      "text/plain": [
       "   customerID  gender  SeniorCitizen Partner Dependents  tenure PhoneService  \\\n",
       "0  7590-VHVEG  Female              0     Yes         No       1           No   \n",
       "1  5575-GNVDE    Male              0      No         No      34          Yes   \n",
       "2  3668-QPYBK    Male              0      No         No       2          Yes   \n",
       "3  7795-CFOCW    Male              0      No         No      45           No   \n",
       "4  9237-HQITU  Female              0      No         No       2          Yes   \n",
       "\n",
       "      MultipleLines InternetService OnlineSecurity OnlineBackup  \\\n",
       "0  No phone service             DSL             No          Yes   \n",
       "1                No             DSL            Yes           No   \n",
       "2                No             DSL            Yes          Yes   \n",
       "3  No phone service             DSL            Yes           No   \n",
       "4                No     Fiber optic             No           No   \n",
       "\n",
       "  DeviceProtection TechSupport StreamingTV StreamingMovies        Contract  \\\n",
       "0               No          No          No              No  Month-to-month   \n",
       "1              Yes          No          No              No        One year   \n",
       "2               No          No          No              No  Month-to-month   \n",
       "3              Yes         Yes          No              No        One year   \n",
       "4               No          No          No              No  Month-to-month   \n",
       "\n",
       "  PaperlessBilling              PaymentMethod  MonthlyCharges Churn  \n",
       "0              Yes           Electronic check           29.85    No  \n",
       "1               No               Mailed check           56.95    No  \n",
       "2              Yes               Mailed check           53.85   Yes  \n",
       "3               No  Bank transfer (automatic)           42.30    No  \n",
       "4              Yes           Electronic check             NaN   Yes  "
      ]
     },
     "execution_count": 1,
     "metadata": {},
     "output_type": "execute_result"
    }
   ],
   "source": [
    "import pandas as pd\n",
    "import numpy as np\n",
    "pd.pandas.set_option('display.max_columns', None)\n",
    "import matplotlib.pyplot as plt\n",
    "%matplotlib inline\n",
    "import seaborn as sns\n",
    "df = pd.read_csv('chum.csv')\n",
    "df.head()"
   ]
  },
  {
   "cell_type": "code",
   "execution_count": 2,
   "id": "aaa64022",
   "metadata": {},
   "outputs": [],
   "source": [
    "df1= df.copy()"
   ]
  },
  {
   "cell_type": "code",
   "execution_count": 6,
   "id": "5e6e7a3d",
   "metadata": {},
   "outputs": [
    {
     "data": {
      "text/plain": [
       "<AxesSubplot:>"
      ]
     },
     "execution_count": 6,
     "metadata": {},
     "output_type": "execute_result"
    },
    {
     "data": {
      "image/png": "[encoded data removed]",
      "text/plain": [
       "<Figure size 720x432 with 1 Axes>"
      ]
     },
     "metadata": {
      "needs_background": "light"
     },
     "output_type": "display_data"
    }
   ],
   "source": [
    "df1.plot(kind='box', vert=False, figsize=(10, 6))"
   ]
  },
  {
   "cell_type": "code",
   "execution_count": 8,
   "id": "d408d6aa",
   "metadata": {},
   "outputs": [
    {
     "data": {
      "image/png": "[encoded data removed]",
      "text/plain": [
       "<Figure size 720x720 with 1 Axes>"
      ]
     },
     "metadata": {
      "needs_background": "light"
     },
     "output_type": "display_data"
    },
    {
     "data": {
      "image/png": "[encoded data removed]",
      "text/plain": [
       "<Figure size 720x720 with 1 Axes>"
      ]
     },
     "metadata": {
      "needs_background": "light"
     },
     "output_type": "display_data"
    },
    {
     "data": {
      "image/png": "[encoded data removed]",
      "text/plain": [
       "<Figure size 720x720 with 1 Axes>"
      ]
     },
     "metadata": {
      "needs_background": "light"
     },
     "output_type": "display_data"
    },
    {
     "data": {
      "image/png": "[encoded data removed]",
      "text/plain": [
       "<Figure size 720x720 with 1 Axes>"
      ]
     },
     "metadata": {
      "needs_background": "light"
     },
     "output_type": "display_data"
    },
    {
     "data": {
      "image/png": "[encoded data removed]",
      "text/plain": [
       "<Figure size 720x720 with 1 Axes>"
      ]
     },
     "metadata": {
      "needs_background": "light"
     },
     "output_type": "display_data"
    },
    {
     "data": {
      "image/png": "[encoded data removed]",
      "text/plain": [
       "<Figure size 720x720 with 1 Axes>"
      ]
     },
     "metadata": {
      "needs_background": "light"
     },
     "output_type": "display_data"
    },
    {
     "data": {
      "image/png": "[encoded data removed]",
      "text/plain": [
       "<Figure size 720x720 with 1 Axes>"
      ]
     },
     "metadata": {
      "needs_background": "light"
     },
     "output_type": "display_data"
    },
    {
     "data": {
      "image/png": "[encoded data removed]",
      "text/plain": [
       "<Figure size 720x720 with 1 Axes>"
      ]
     },
     "metadata": {
      "needs_background": "light"
     },
     "output_type": "display_data"
    },
    {
     "data": {
      "image/png": "[encoded data removed]",
      "text/plain": [
       "<Figure size 720x720 with 1 Axes>"
      ]
     },
     "metadata": {
      "needs_background": "light"
     },
     "output_type": "display_data"
    },
    {
     "data": {
      "image/png": "[encoded data removed]",
      "text/plain": [
       "<Figure size 720x720 with 1 Axes>"
      ]
     },
     "metadata": {
      "needs_background": "light"
     },
     "output_type": "display_data"
    },
    {
     "data": {
      "image/png": "[encoded data removed]",
      "text/plain": [
       "<Figure size 720x720 with 1 Axes>"
      ]
     },
     "metadata": {
      "needs_background": "light"
     },
     "output_type": "display_data"
    },
    {
     "data": {
      "image/png": "[encoded data removed]",
      "text/plain": [
       "<Figure size 720x720 with 1 Axes>"
      ]
     },
     "metadata": {
      "needs_background": "light"
     },
     "output_type": "display_data"
    },
    {
     "data": {
      "image/png": "[encoded data removed]",
      "text/plain": [
       "<Figure size 720x720 with 1 Axes>"
      ]
     },
     "metadata": {
      "needs_background": "light"
     },
     "output_type": "display_data"
    },
    {
     "data": {
      "image/png": "[encoded data removed]",
      "text/plain": [
       "<Figure size 720x720 with 1 Axes>"
      ]
     },
     "metadata": {
      "needs_background": "light"
     },
     "output_type": "display_data"
    },
    {
     "data": {
      "image/png": "[encoded data removed]",
      "text/plain": [
       "<Figure size 720x720 with 1 Axes>"
      ]
     },
     "metadata": {
      "needs_background": "light"
     },
     "output_type": "display_data"
    }
   ],
   "source": [
    "categoricals = [feature for feature in df.columns if df1[feature].dtype=='O' and feature not in ['Churn', 'customerID']]\n",
    "for feature in categoricals:\n",
    "    df1.groupby(feature)['Churn'].count().plot(kind='bar', figsize=(10, 10))\n",
    "    plt.xlabel(feature, fontsize=12)\n",
    "    plt.ylabel('Churn', fontsize=12)\n",
    "    plt.title(feature, fontsize=12)\n",
    "    plt.legend()\n",
    "    plt.show()"
   ]
  },
  {
   "cell_type": "code",
   "execution_count": 9,
   "id": "958ec529",
   "metadata": {},
   "outputs": [
    {
     "data": {
      "text/plain": [
       "['gender',\n",
       " 'Partner',\n",
       " 'Dependents',\n",
       " 'PhoneService',\n",
       " 'MultipleLines',\n",
       " 'InternetService',\n",
       " 'OnlineSecurity',\n",
       " 'OnlineBackup',\n",
       " 'DeviceProtection',\n",
       " 'TechSupport',\n",
       " 'StreamingTV',\n",
       " 'StreamingMovies',\n",
       " 'Contract',\n",
       " 'PaperlessBilling',\n",
       " 'PaymentMethod']"
      ]
     },
     "execution_count": 9,
     "metadata": {},
     "output_type": "execute_result"
    }
   ],
   "source": [
    "categoricals"
   ]
  },
  {
   "cell_type": "code",
   "execution_count": 11,
   "id": "df3a75c7",
   "metadata": {},
   "outputs": [],
   "source": [
    "df1 = df[df['Churn']=='Yes']"
   ]
  },
  {
   "cell_type": "code",
   "execution_count": 17,
   "id": "ae1b5647",
   "metadata": {},
   "outputs": [
    {
     "data": {
      "image/png": "[encoded data removed]",
      "text/plain": [
       "<Figure size 432x288 with 1 Axes>"
      ]
     },
     "metadata": {
      "needs_background": "light"
     },
     "output_type": "display_data"
    }
   ],
   "source": [
    "## Male and Female both cause the equal amount of churn proportion\n",
    "plt.clf()\n",
    "df1.groupby('gender')['Churn'].count().plot(kind='bar')\n",
    "plt.xlabel('gender_label', fontsize=12)\n",
    "plt.ylabel('Churn_Frequency', fontsize=12)\n",
    "plt.title('gender_plot', fontsize=14)\n",
    "plt.legend()\n",
    "plt.show()"
   ]
  },
  {
   "cell_type": "code",
   "execution_count": 19,
   "id": "4bd8bf39",
   "metadata": {},
   "outputs": [
    {
     "data": {
      "image/png": "[encoded data removed]",
      "text/plain": [
       "<Figure size 432x288 with 1 Axes>"
      ]
     },
     "metadata": {
      "needs_background": "light"
     },
     "output_type": "display_data"
    }
   ],
   "source": [
    "## Singles have the more churn count\n",
    "plt.clf()\n",
    "df1.groupby('Partner')['Churn'].count().plot(kind='bar')\n",
    "plt.xlabel('Partner_label', fontsize=12)\n",
    "plt.ylabel('Churn_Frequency', fontsize=12)\n",
    "plt.title('Partner_plot', fontsize=14)\n",
    "plt.legend()\n",
    "plt.show()"
   ]
  },
  {
   "cell_type": "code",
   "execution_count": 20,
   "id": "2dae7d50",
   "metadata": {},
   "outputs": [
    {
     "data": {
      "image/png": "[encoded data removed]",
      "text/plain": [
       "<Figure size 432x288 with 1 Axes>"
      ]
     },
     "metadata": {
      "needs_background": "light"
     },
     "output_type": "display_data"
    }
   ],
   "source": [
    "# Dependece 'yes' got the maximum churn count\n",
    "plt.clf()\n",
    "df1.groupby('Dependents')['Churn'].count().plot(kind='bar')\n",
    "plt.xlabel('Dependents_label', fontsize=12)\n",
    "plt.ylabel('Churn_Frequency', fontsize=12)\n",
    "plt.title('Dependents_plot', fontsize=14)\n",
    "plt.legend()\n",
    "plt.show()"
   ]
  },
  {
   "cell_type": "code",
   "execution_count": 22,
   "id": "c64c9a3a",
   "metadata": {},
   "outputs": [
    {
     "data": {
      "image/png": "[encoded data removed]",
      "text/plain": [
       "<Figure size 432x288 with 1 Axes>"
      ]
     },
     "metadata": {
      "needs_background": "light"
     },
     "output_type": "display_data"
    }
   ],
   "source": [
    "# people who are having the phone service has the more churn count\n",
    "plt.clf()\n",
    "df1.groupby('PhoneService')['Churn'].count().plot(kind='bar')\n",
    "plt.xlabel('PhoneService_label', fontsize=12)\n",
    "plt.ylabel('Churn_Frequency', fontsize=12)\n",
    "plt.title('PhoneService_plot', fontsize=14)\n",
    "plt.legend()\n",
    "plt.show()"
   ]
  },
  {
   "cell_type": "code",
   "execution_count": 24,
   "id": "c635deb8",
   "metadata": {},
   "outputs": [
    {
     "data": {
      "image/png": "[encoded data removed]",
      "text/plain": [
       "<Figure size 432x288 with 1 Axes>"
      ]
     },
     "metadata": {
      "needs_background": "light"
     },
     "output_type": "display_data"
    }
   ],
   "source": [
    "## pople who are having the MultipleLines and not having the multiplelines both are having the equal proortion of Churn.\n",
    "plt.clf()\n",
    "df1.groupby('MultipleLines')['Churn'].count().plot(kind='bar')\n",
    "plt.xlabel('MultipleLines_label', fontsize=12)\n",
    "plt.ylabel('Churn_Frequency', fontsize=12)\n",
    "plt.title('MultipleLines_plot', fontsize=14)\n",
    "plt.legend()\n",
    "plt.show()"
   ]
  },
  {
   "cell_type": "code",
   "execution_count": 25,
   "id": "86a9842f",
   "metadata": {},
   "outputs": [
    {
     "data": {
      "image/png": "[encoded data removed]",
      "text/plain": [
       "<Figure size 432x288 with 1 Axes>"
      ]
     },
     "metadata": {
      "needs_background": "light"
     },
     "output_type": "display_data"
    }
   ],
   "source": [
    "## People who are having the Fiber optic internet service having the most churn\n",
    "plt.clf()\n",
    "df1.groupby('InternetService')['Churn'].count().plot(kind='bar')\n",
    "plt.xlabel('InternetService_label', fontsize=12)\n",
    "plt.ylabel('Churn_Frequency', fontsize=12)\n",
    "plt.title('InternetService_plot', fontsize=14)\n",
    "plt.legend()\n",
    "plt.show()"
   ]
  },
  {
   "cell_type": "code",
   "execution_count": 26,
   "id": "1af54da8",
   "metadata": {},
   "outputs": [
    {
     "data": {
      "image/png": "[encoded data removed]",
      "text/plain": [
       "<Figure size 432x288 with 1 Axes>"
      ]
     },
     "metadata": {
      "needs_background": "light"
     },
     "output_type": "display_data"
    }
   ],
   "source": [
    "## People who are not having the online security has the most churn\n",
    "plt.clf()\n",
    "df1.groupby('OnlineSecurity')['Churn'].count().plot(kind='bar')\n",
    "plt.xlabel('OnlineSecurity_label', fontsize=12)\n",
    "plt.ylabel('Churn_Frequency', fontsize=12)\n",
    "plt.title('OnlineSecurity_plot', fontsize=14)\n",
    "plt.legend()\n",
    "plt.show()"
   ]
  },
  {
   "cell_type": "code",
   "execution_count": 27,
   "id": "c8f12270",
   "metadata": {},
   "outputs": [
    {
     "data": {
      "image/png": "[encoded data removed]",
      "text/plain": [
       "<Figure size 432x288 with 1 Axes>"
      ]
     },
     "metadata": {
      "needs_background": "light"
     },
     "output_type": "display_data"
    }
   ],
   "source": [
    "## People who are not having the online backup having the most churn\n",
    "plt.clf()\n",
    "df1.groupby('OnlineBackup')['Churn'].count().plot(kind='bar')\n",
    "plt.xlabel('OnlineBackup_label', fontsize=12)\n",
    "plt.ylabel('Churn_Frequency', fontsize=12)\n",
    "plt.title('OnlineBackup_plot', fontsize=14)\n",
    "plt.legend()\n",
    "plt.show()"
   ]
  },
  {
   "cell_type": "code",
   "execution_count": 28,
   "id": "1ea1e71b",
   "metadata": {},
   "outputs": [
    {
     "data": {
      "image/png": "[encoded data removed]",
      "text/plain": [
       "<Figure size 432x288 with 1 Axes>"
      ]
     },
     "metadata": {
      "needs_background": "light"
     },
     "output_type": "display_data"
    }
   ],
   "source": [
    "### people who are not having the device protection having the most churn\n",
    "plt.clf()\n",
    "df1.groupby('DeviceProtection')['Churn'].count().plot(kind='bar')\n",
    "plt.xlabel('DeviceProtection_label', fontsize=12)\n",
    "plt.ylabel('Churn_Frequency', fontsize=12)\n",
    "plt.title('DeviceProtection_plot', fontsize=14)\n",
    "plt.legend()\n",
    "plt.show()"
   ]
  },
  {
   "cell_type": "code",
   "execution_count": 29,
   "id": "ef8e80b2",
   "metadata": {},
   "outputs": [
    {
     "data": {
      "image/png": "[encoded data removed]",
      "text/plain": [
       "<Figure size 432x288 with 1 Axes>"
      ]
     },
     "metadata": {
      "needs_background": "light"
     },
     "output_type": "display_data"
    }
   ],
   "source": [
    "## People who are not having the Technical Support has the most churn\n",
    "plt.clf()\n",
    "df1.groupby('TechSupport')['Churn'].count().plot(kind='bar')\n",
    "plt.xlabel('TechSupport_label', fontsize=12)\n",
    "plt.ylabel('Churn_Frequency', fontsize=12)\n",
    "plt.title('TechSupport_plot', fontsize=14)\n",
    "plt.legend()\n",
    "plt.show()"
   ]
  },
  {
   "cell_type": "code",
   "execution_count": 30,
   "id": "57bfd3c3",
   "metadata": {},
   "outputs": [
    {
     "data": {
      "image/png": "[encoded data removed]",
      "text/plain": [
       "<Figure size 432x288 with 1 Axes>"
      ]
     },
     "metadata": {
      "needs_background": "light"
     },
     "output_type": "display_data"
    }
   ],
   "source": [
    "## people who are having and not having streamingTV Both has the highest Churn ration\n",
    "plt.clf()\n",
    "df1.groupby('StreamingTV')['Churn'].count().plot(kind='bar')\n",
    "plt.xlabel('StreamingTV_label', fontsize=12)\n",
    "plt.ylabel('Churn_Frequency', fontsize=12)\n",
    "plt.title('StreamingTV_plot', fontsize=14)\n",
    "plt.legend()\n",
    "plt.show()"
   ]
  },
  {
   "cell_type": "code",
   "execution_count": 32,
   "id": "21c75d19",
   "metadata": {},
   "outputs": [
    {
     "data": {
      "image/png": "[encoded data removed]",
      "text/plain": [
       "<Figure size 432x288 with 1 Axes>"
      ]
     },
     "metadata": {
      "needs_background": "light"
     },
     "output_type": "display_data"
    }
   ],
   "source": [
    "## People who are having the paperless Billing has the most Churn\n",
    "plt.clf()\n",
    "df1.groupby('PaperlessBilling')['Churn'].count().plot(kind='bar')\n",
    "plt.xlabel('PaperlessBilling_label', fontsize=12)\n",
    "plt.ylabel('Churn_Frequency', fontsize=12)\n",
    "plt.title('PaperlessBilling_plot', fontsize=14)\n",
    "plt.legend()\n",
    "plt.show()"
   ]
  },
  {
   "cell_type": "code",
   "execution_count": 34,
   "id": "095719cd",
   "metadata": {},
   "outputs": [
    {
     "data": {
      "image/png": "[encoded data removed]",
      "text/plain": [
       "<Figure size 432x288 with 1 Axes>"
      ]
     },
     "metadata": {
      "needs_background": "light"
     },
     "output_type": "display_data"
    }
   ],
   "source": [
    "### People who subcribing the month-to-moth package has the large churn\n",
    "plt.clf()\n",
    "df1.groupby('Contract')['Churn'].count().plot(kind='bar')\n",
    "plt.xlabel('Contract_label', fontsize=12)\n",
    "plt.ylabel('Churn_Frequency', fontsize=12)\n",
    "plt.title('Contract_plot', fontsize=14)\n",
    "plt.legend()\n",
    "plt.show()"
   ]
  },
  {
   "cell_type": "code",
   "execution_count": 35,
   "id": "66f65719",
   "metadata": {},
   "outputs": [
    {
     "data": {
      "image/png": "[encoded data removed]",
      "text/plain": [
       "<Figure size 432x288 with 1 Axes>"
      ]
     },
     "metadata": {
      "needs_background": "light"
     },
     "output_type": "display_data"
    }
   ],
   "source": [
    "# people who are doing paymentmethod as Electronic check has the large churn\n",
    "plt.clf()\n",
    "df1.groupby('PaymentMethod')['Churn'].count().plot(kind='bar')\n",
    "plt.xlabel('PaymentMethod_label', fontsize=12)\n",
    "plt.ylabel('Churn_Frequency', fontsize=12)\n",
    "plt.title('PaymentMethod_plot', fontsize=14)\n",
    "plt.legend()\n",
    "plt.show()"
   ]
  },
  {
   "cell_type": "code",
   "execution_count": 37,
   "id": "d498dd17",
   "metadata": {},
   "outputs": [],
   "source": [
    "Numericals = [feature for feature in df1.columns if df1[feature].dtype!='O' and feature not in ['Churn',  'customerID']]"
   ]
  },
  {
   "cell_type": "code",
   "execution_count": 38,
   "id": "ff717422",
   "metadata": {},
   "outputs": [
    {
     "data": {
      "text/plain": [
       "['SeniorCitizen', 'tenure', 'MonthlyCharges']"
      ]
     },
     "execution_count": 38,
     "metadata": {},
     "output_type": "execute_result"
    }
   ],
   "source": [
    "Numericals"
   ]
  },
  {
   "cell_type": "code",
   "execution_count": 43,
   "id": "e46bc7fa",
   "metadata": {},
   "outputs": [],
   "source": [
    "import scipy.stats as stat\n",
    "import pylab"
   ]
  },
  {
   "cell_type": "code",
   "execution_count": 44,
   "id": "a8abf18d",
   "metadata": {},
   "outputs": [
    {
     "data": {
      "image/png": "[encoded data removed]",
      "text/plain": [
       "<Figure size 720x432 with 2 Axes>"
      ]
     },
     "metadata": {
      "needs_background": "light"
     },
     "output_type": "display_data"
    }
   ],
   "source": [
    "plt.figure(figsize=(10, 6))\n",
    "plt.subplot(1, 2, 1)\n",
    "plt.hist(df1['tenure'])\n",
    "plt.subplot(1, 2,2)\n",
    "stat.probplot(df1['tenure'], dist='norm', plot=pylab)\n",
    "plt.show()"
   ]
  },
  {
   "cell_type": "code",
   "execution_count": 46,
   "id": "e80c4bf8",
   "metadata": {},
   "outputs": [
    {
     "data": {
      "image/png": "[encoded data removed]",
      "text/plain": [
       "<Figure size 720x432 with 2 Axes>"
      ]
     },
     "metadata": {
      "needs_background": "light"
     },
     "output_type": "display_data"
    }
   ],
   "source": [
    "plt.figure(figsize=(10, 6))\n",
    "plt.subplot(1, 2, 1)\n",
    "plt.hist(df1['MonthlyCharges'])\n",
    "plt.subplot(1, 2,2)\n",
    "stat.probplot(df1['MonthlyCharges'], dist='norm', plot=pylab)\n",
    "plt.show()"
   ]
  },
  {
   "cell_type": "code",
   "execution_count": 4,
   "id": "75778b8c",
   "metadata": {},
   "outputs": [
    {
     "data": {
      "text/plain": [
       "['SeniorCitizen', 'tenure', 'MonthlyCharges']"
      ]
     },
     "execution_count": 4,
     "metadata": {},
     "output_type": "execute_result"
    }
   ],
   "source": [
    "# Numerical Features\n",
    "Numerical_features = [feature for feature in df.columns if df[feature].dtype !='O']\n",
    "Numerical_features"
   ]
  },
  {
   "cell_type": "code",
   "execution_count": 5,
   "id": "4ec91464",
   "metadata": {},
   "outputs": [
    {
     "data": {
      "text/plain": [
       "customerID            0\n",
       "gender                0\n",
       "SeniorCitizen         0\n",
       "Partner               0\n",
       "Dependents            0\n",
       "tenure                0\n",
       "PhoneService          0\n",
       "MultipleLines         0\n",
       "InternetService       0\n",
       "OnlineSecurity        0\n",
       "OnlineBackup          0\n",
       "DeviceProtection      0\n",
       "TechSupport           0\n",
       "StreamingTV           0\n",
       "StreamingMovies       0\n",
       "Contract              0\n",
       "PaperlessBilling      0\n",
       "PaymentMethod         0\n",
       "MonthlyCharges      202\n",
       "Churn                 0\n",
       "dtype: int64"
      ]
     },
     "execution_count": 5,
     "metadata": {},
     "output_type": "execute_result"
    }
   ],
   "source": [
    "# Number of missing values\n",
    "df.isnull().sum()"
   ]
  },
  {
   "cell_type": "code",
   "execution_count": 6,
   "id": "b0f30ab0",
   "metadata": {},
   "outputs": [
    {
     "name": "stdout",
     "output_type": "stream",
     "text": [
      "32.4\n"
     ]
    }
   ],
   "source": [
    "# QUESTION 1\n",
    "# Once the data is read, look at the summary statistics to answer the below\n",
    "\n",
    "# The average Tenure of all the customers in the data is ___(Calsulate the Average Tenure and round it two decimal places)\n",
    "print(round(df.tenure.mean(), 2))"
   ]
  },
  {
   "cell_type": "code",
   "execution_count": 7,
   "id": "25019d08",
   "metadata": {},
   "outputs": [
    {
     "name": "stdout",
     "output_type": "stream",
     "text": [
      "Churn\n",
      "No     37.57\n",
      "Yes    18.09\n",
      "Name: tenure, dtype: float64\n"
     ]
    }
   ],
   "source": [
    "# QUESTION 2\n",
    "# Once the data is read, Look at the summary statistics to answer the question elow\n",
    "\n",
    "# The average Tenure of the customers who churn is and those who do not churn is (round the answer to two decimal places)\n",
    "print(round(df.groupby('Churn').tenure.mean(), 2))"
   ]
  },
  {
   "cell_type": "code",
   "execution_count": 8,
   "id": "9096af5e",
   "metadata": {},
   "outputs": [
    {
     "data": {
      "text/plain": [
       "202"
      ]
     },
     "execution_count": 8,
     "metadata": {},
     "output_type": "execute_result"
    }
   ],
   "source": [
    "# QUESTION 3\n",
    "# Once the data is read, Look at the summary statistics to answer the question below\n",
    "\n",
    "# How many missing values the feature MonthlyCharges has\n",
    "df.MonthlyCharges.isnull().sum()"
   ]
  },
  {
   "cell_type": "code",
   "execution_count": 9,
   "id": "ea9e1a5d",
   "metadata": {},
   "outputs": [
    {
     "data": {
      "text/html": [
       "<div>\n",
       "<style scoped>\n",
       "    .dataframe tbody tr th:only-of-type {\n",
       "        vertical-align: middle;\n",
       "    }\n",
       "\n",
       "    .dataframe tbody tr th {\n",
       "        vertical-align: top;\n",
       "    }\n",
       "\n",
       "    .dataframe thead th {\n",
       "        text-align: right;\n",
       "    }\n",
       "</style>\n",
       "<table border=\"1\" class=\"dataframe\">\n",
       "  <thead>\n",
       "    <tr style=\"text-align: right;\">\n",
       "      <th></th>\n",
       "      <th>SeniorCitizen</th>\n",
       "      <th>tenure</th>\n",
       "      <th>MonthlyCharges</th>\n",
       "    </tr>\n",
       "  </thead>\n",
       "  <tbody>\n",
       "    <tr>\n",
       "      <th>count</th>\n",
       "      <td>7043.000000</td>\n",
       "      <td>7043.000000</td>\n",
       "      <td>6841.000000</td>\n",
       "    </tr>\n",
       "    <tr>\n",
       "      <th>mean</th>\n",
       "      <td>0.162147</td>\n",
       "      <td>32.399546</td>\n",
       "      <td>64.588203</td>\n",
       "    </tr>\n",
       "    <tr>\n",
       "      <th>std</th>\n",
       "      <td>0.368612</td>\n",
       "      <td>24.662895</td>\n",
       "      <td>30.513819</td>\n",
       "    </tr>\n",
       "    <tr>\n",
       "      <th>min</th>\n",
       "      <td>0.000000</td>\n",
       "      <td>0.000000</td>\n",
       "      <td>18.250000</td>\n",
       "    </tr>\n",
       "    <tr>\n",
       "      <th>25%</th>\n",
       "      <td>0.000000</td>\n",
       "      <td>9.000000</td>\n",
       "      <td>34.250000</td>\n",
       "    </tr>\n",
       "    <tr>\n",
       "      <th>50%</th>\n",
       "      <td>0.000000</td>\n",
       "      <td>29.000000</td>\n",
       "      <td>69.800000</td>\n",
       "    </tr>\n",
       "    <tr>\n",
       "      <th>75%</th>\n",
       "      <td>0.000000</td>\n",
       "      <td>55.000000</td>\n",
       "      <td>90.200000</td>\n",
       "    </tr>\n",
       "    <tr>\n",
       "      <th>max</th>\n",
       "      <td>1.000000</td>\n",
       "      <td>172.000000</td>\n",
       "      <td>118.750000</td>\n",
       "    </tr>\n",
       "  </tbody>\n",
       "</table>\n",
       "</div>"
      ],
      "text/plain": [
       "       SeniorCitizen       tenure  MonthlyCharges\n",
       "count    7043.000000  7043.000000     6841.000000\n",
       "mean        0.162147    32.399546       64.588203\n",
       "std         0.368612    24.662895       30.513819\n",
       "min         0.000000     0.000000       18.250000\n",
       "25%         0.000000     9.000000       34.250000\n",
       "50%         0.000000    29.000000       69.800000\n",
       "75%         0.000000    55.000000       90.200000\n",
       "max         1.000000   172.000000      118.750000"
      ]
     },
     "execution_count": 9,
     "metadata": {},
     "output_type": "execute_result"
    }
   ],
   "source": [
    "# QUESTION 4\n",
    "# Once the data is read, Look at the summary statistics to answer the question below\n",
    "\n",
    "# Looking at the summary statistics (using the describe function of pandas) __ seems to be a potential outlier for tenure.\n",
    "df.describe()\n",
    "# Looking at the maximum of tenure column we can easily say that 172 is outlier because nobody can live 172 years TO AVAIL SERVICE\n",
    "# ANSWER IS 172"
   ]
  },
  {
   "cell_type": "code",
   "execution_count": 10,
   "id": "11662b13",
   "metadata": {},
   "outputs": [
    {
     "data": {
      "text/plain": [
       "MonthlyCharges    114.88\n",
       "tenure             72.00\n",
       "Name: 0.99, dtype: float64"
      ]
     },
     "execution_count": 10,
     "metadata": {},
     "output_type": "execute_result"
    }
   ],
   "source": [
    "# QUESTION 5\n",
    "# Once the data is read, Look at the summary statistics to answer the question below\\\n",
    "\n",
    "\n",
    "# lies at or below 99% of the data for the feature MonthlyCharges and lies at or velow 99% of the data for feature Tenure [Numeric Input: round the answer to two decimal places wherever applicable. Example if your answer is 154.6778 say 154.68]\n",
    "df[['MonthlyCharges', 'tenure']].quantile(.99).round(decimals=2)"
   ]
  },
  {
   "cell_type": "code",
   "execution_count": 11,
   "id": "52eff5a9",
   "metadata": {},
   "outputs": [
    {
     "data": {
      "text/plain": [
       "No     0.73463\n",
       "Yes    0.26537\n",
       "Name: Churn, dtype: float64"
      ]
     },
     "execution_count": 11,
     "metadata": {},
     "output_type": "execute_result"
    }
   ],
   "source": [
    "# QUESTION 6\n",
    "# Now that we have taken a look at some continuous features, lets take a look at some categorical features and their relationship with the target (‘Churn’)\n",
    "\n",
    "# ____% is the total percentage of churned customers in the data. [Numeric Input. Rounded up. Example – if 23.67 or 24% write 24 as answer]\n",
    "df['Churn'].value_counts(normalize=True)\n",
    "\n",
    "# Answer is 27% is the total perecentage of churned customers in the data"
   ]
  },
  {
   "cell_type": "code",
   "execution_count": 12,
   "id": "69da06f9",
   "metadata": {},
   "outputs": [
    {
     "data": {
      "text/plain": [
       "<bound method DataFrame.count of Dependents    No   Yes\n",
       "Churn                 \n",
       "No          3390  1784\n",
       "Yes         1543   326>"
      ]
     },
     "execution_count": 12,
     "metadata": {},
     "output_type": "execute_result"
    }
   ],
   "source": [
    "# QUESTION 7\n",
    "# Now that we have taken a look at some continuous features, lets take a look at some categorical features and their relationship with the target (‘Churn’)\n",
    "\n",
    "# Amongst those who churned,  % of the customers who have Dependents tend to churn and  % of the customers who do not have Dependents tend not to churn. \n",
    "# Hence, we observe that there is a variation in Churn behaviour by this feature “Dependents”.\n",
    "# [Numeric Input Rounded up. Example – if 23.67 or 24% write 24 as answer] \n",
    "# [[Create a cross tabulation using Churn and Dependents columns and calculate percentage on the basis of total no.\n",
    "# of observations or  rows in the data. In other words use total rows in the data as denominator for percentage]]\n",
    "pd.crosstab(df['Churn'], df['Dependents']).count\n",
    "# Answer is\n",
    "# Customers who have Dependents tend to churn is 5%\n",
    "# Customers who do not have Dependets tend not to churn is 48%"
   ]
  },
  {
   "cell_type": "code",
   "execution_count": 13,
   "id": "e0093025",
   "metadata": {},
   "outputs": [
    {
     "data": {
      "text/plain": [
       "Fiber optic    1297\n",
       "DSL             459\n",
       "No              113\n",
       "Name: InternetService, dtype: int64"
      ]
     },
     "execution_count": 13,
     "metadata": {},
     "output_type": "execute_result"
    }
   ],
   "source": [
    "# QUESTION 8\n",
    "# Amongst those customers who churned, customers who opt for____Internet Service have the least percentage of churn. [Character Input - Use the same label as given in the data]\n",
    "df1 = df[df['Churn']=='Yes']\n",
    "df1.InternetService.value_counts()\n",
    "# Answer is DSL\n",
    "# customers who opt for DSL Internet Servie have the least percentage of churn"
   ]
  },
  {
   "cell_type": "code",
   "execution_count": 14,
   "id": "b7bd1c14",
   "metadata": {},
   "outputs": [
    {
     "data": {
      "text/plain": [
       "<AxesSubplot:>"
      ]
     },
     "execution_count": 14,
     "metadata": {},
     "output_type": "execute_result"
    },
    {
     "data": {
      "image/png": "[encoded data removed]",
      "text/plain": [
       "<Figure size 432x288 with 1 Axes>"
      ]
     },
     "metadata": {
      "needs_background": "light"
     },
     "output_type": "display_data"
    }
   ],
   "source": [
    "# QUESTION 9\n",
    "# Customers with a ___ contract seem to have the maximum percentage of churn. [Character - Use the same label as give in the data]\n",
    "\n",
    "df1 = df[df['Churn']=='Yes']\n",
    "df1.Contract.value_counts().plot(kind='bar')\n",
    "# Answer is month-to-month churn percentage"
   ]
  },
  {
   "cell_type": "code",
   "execution_count": 15,
   "id": "2ba3cfa1",
   "metadata": {},
   "outputs": [
    {
     "data": {
      "text/plain": [
       "Electronic check             1071\n",
       "Mailed check                  308\n",
       "Bank transfer (automatic)     258\n",
       "Credit card (automatic)       232\n",
       "Name: PaymentMethod, dtype: int64"
      ]
     },
     "execution_count": 15,
     "metadata": {},
     "output_type": "execute_result"
    }
   ],
   "source": [
    "# QUESTION 10\n",
    "# Now that we have taken a look at some continuous features, lets take a look at some categorical features and their relationship with the target (‘Churn’)\n",
    "\n",
    "# Customers who use ___ ___ as Payment Method tend to churn the maximum. [Character Input 2 words- Use the same label as given in the data]\n",
    "df1 = df[df['Churn']=='Yes']\n",
    "df1.PaymentMethod.value_counts()\n",
    "# Answer is Electronic check"
   ]
  },
  {
   "cell_type": "code",
   "execution_count": 16,
   "id": "d36030b4",
   "metadata": {},
   "outputs": [
    {
     "name": "stdout",
     "output_type": "stream",
     "text": [
      "mean before filling nan values = 64.58820347902353\n"
     ]
    },
    {
     "data": {
      "text/plain": [
       "64.58820347902353"
      ]
     },
     "execution_count": 16,
     "metadata": {},
     "output_type": "execute_result"
    }
   ],
   "source": [
    "# QUESTION 11\n",
    "# Once the step of Feature Understanding is complete, lets now start Engineering the Features based on the insights about the feature that tend to impact the churn.\n",
    "\n",
    "# 1. Treat the missing values in the Feature MonthlyCharges by replacing them with the average value of the Monthly Charges column. Is there a change in overall average value of the Feature Monthly Charges after the missing value treatment?___[Yes/No – Character Input].(In the average values consider changes (if any) only upto two decimals places)\n",
    "# print('Total missing values = {}'.format(df.MonthlyCharges.isnull().sum()))\n",
    "print(\"mean before filling nan values = {}\".format(df.MonthlyCharges.mean()))\n",
    "df['MonthlyCharges'] = df['MonthlyCharges'].fillna(df['MonthlyCharges'].mean())\n",
    "# print(\"Total missing values after filna = {}\".format(df.MonthlyCharges.isnull().sum()))\n",
    "df.MonthlyCharges.mean()\n",
    "# There is no differece in mean before and after filling the missing values so  THE ANSWER IS NO"
   ]
  },
  {
   "cell_type": "code",
   "execution_count": 17,
   "id": "29d2e8ba",
   "metadata": {},
   "outputs": [
    {
     "name": "stdout",
     "output_type": "stream",
     "text": [
      "32.39954564816129\n"
     ]
    },
    {
     "name": "stderr",
     "output_type": "stream",
     "text": [
      "C:\\Users\\91951\\AppData\\Local\\Temp/ipykernel_6964/3820555741.py:4: SettingWithCopyWarning: \n",
      "A value is trying to be set on a copy of a slice from a DataFrame\n",
      "\n",
      "See the caveats in the documentation: https://pandas.pydata.org/pandas-docs/stable/user_guide/indexing.html#returning-a-view-versus-a-copy\n",
      "  df['tenure'][df['tenure'] > 72] = 72\n"
     ]
    },
    {
     "data": {
      "text/plain": [
       "32.37114865824223"
      ]
     },
     "execution_count": 17,
     "metadata": {},
     "output_type": "execute_result"
    }
   ],
   "source": [
    "# QUESTION 12\n",
    "# 2. Treat the outliers in the column Tenure. All the values that are greater than 72 in this feature, convert those values to 72. There are only two such values. The new average after the outlier treatment for the column Tenure is ____ [Numeric Input – Round upto two decimals. Example if output is 52.324 mention as 52.32 or if its 52.327 mention 52.33]\n",
    "print(df.tenure.mean())\n",
    "df['tenure'][df['tenure'] > 72] = 72\n",
    "df.tenure.mean()\n",
    "# The new average of tenure after outlier treatment is 32.37"
   ]
  },
  {
   "cell_type": "code",
   "execution_count": 18,
   "id": "579bc476",
   "metadata": {},
   "outputs": [
    {
     "name": "stdout",
     "output_type": "stream",
     "text": [
      "Yes    0.600856\n",
      "No     0.399144\n",
      "Name: singles, dtype: float64\n"
     ]
    },
    {
     "data": {
      "text/plain": [
       "<AxesSubplot:>"
      ]
     },
     "execution_count": 18,
     "metadata": {},
     "output_type": "execute_result"
    },
    {
     "data": {
      "image/png": "[encoded data removed]",
      "text/plain": [
       "<Figure size 432x288 with 1 Axes>"
      ]
     },
     "metadata": {
      "needs_background": "light"
     },
     "output_type": "display_data"
    }
   ],
   "source": [
    "# QUESTION 13\n",
    "# To prepare the data for modelling, we will need to convert all the categorical variables into quantitative by using one hot encoding. But before we do that, we will also need to bring out information from the features that possible only by combining features. Its seems that customers who have no Partners and no Dependents tend to churn a lot. Instead of having two separate columns – Partner and Dependents in the data, create a feature that has a flag for those with no Partners and no Dependents. Lets call this feature – “Singles”.___% is the percentage of singles that tend to churn.[Numeric Input –Example- If the answer is 24.67 or 25% write it as 25 in the blank] [[Create a cross tabulation using Churn and Singles columns and calculate percentage on the basis of total no. of observations or rows in the data. In other words use total rows in the data as denominator to calculate percentage]]\n",
    "def singlecheck(Partner, Dependents):\n",
    "    if Partner == 'No' and Dependents == 'No':\n",
    "        f = 'Yes'\n",
    "    else:\n",
    "        f = 'No'\n",
    "    return f\n",
    "df['singles'] = df.apply(lambda x: singlecheck(x['Partner'], x['Dependents']), axis=1)\n",
    "df['singles']\n",
    "df2 = df[df['Churn']=='Yes']\n",
    "print(df2.singles.value_counts(normalize=True))\n",
    "df2.singles.value_counts(normalize=True).plot(kind='bar')\n",
    "# Answer 60% is the percentage of singles that tend to churn"
   ]
  },
  {
   "cell_type": "code",
   "execution_count": 19,
   "id": "b463a8e5",
   "metadata": {},
   "outputs": [
    {
     "name": "stdout",
     "output_type": "stream",
     "text": [
      "1    3875\n",
      "0    3168\n",
      "Name: MonthtoMonth, dtype: int64\n"
     ]
    }
   ],
   "source": [
    "# QUESTION 14\n",
    "# Create a column where those with Month-to-Month Contract are flagged as 1 and all other labels in the Contract column are flagged as 0. This column has a count of  for 1’s and a count of  for 0’s. [Numeric Input]\n",
    "df['MonthtoMonth'] = [1 if x == 'Month-to-month' else 0 for x in df['Contract']]\n",
    "print(df.MonthtoMonth.value_counts())"
   ]
  },
  {
   "cell_type": "code",
   "execution_count": 20,
   "id": "873e3072",
   "metadata": {},
   "outputs": [
    {
     "name": "stdout",
     "output_type": "stream",
     "text": [
      "long      3051\n",
      "short     2069\n",
      "medium    1923\n",
      "Name: tenure_bucket, dtype: int64\n"
     ]
    }
   ],
   "source": [
    "# QUESTION 15\n",
    "# Create a bucketed feature for Tenure (Make sure you used the new Tenure column that is treated for outliers). Those with less than 12 months, flag these are “short”, Those with tenure between 12 and 36 months, flag them as “medium” and the rest of the values as “long”.  is the count for the “short” label,  is the count for the “medium” label and  is the count for the “long” label. [Numeric Input]\n",
    "def tenureBucketCheck(tenure):\n",
    "    if tenure < 12:\n",
    "        f = 'short'\n",
    "    elif tenure >=12 and tenure < 36:\n",
    "        f = 'medium'\n",
    "    else:\n",
    "        f = 'long'\n",
    "    return f\n",
    "        \n",
    "df['tenure_bucket'] = df.apply(lambda x: tenureBucketCheck(x['tenure']), axis=1)\n",
    "print(df.tenure_bucket.value_counts())\n",
    "# Long 3051\n",
    "# short 2069\n",
    "# medium 1923"
   ]
  },
  {
   "cell_type": "code",
   "execution_count": 21,
   "id": "c30b32ce",
   "metadata": {},
   "outputs": [
    {
     "name": "stdout",
     "output_type": "stream",
     "text": [
      "Yes    0.53023\n",
      "No     0.46977\n",
      "Name: Short_Contracts, dtype: float64\n"
     ]
    }
   ],
   "source": [
    "# QUESTION 16\n",
    "# Create a new column called (Short_Contracts) that’s a combination of Month-to-Month Contracts and customers with short tenures (less than 12 months). __ is the churn percentage for this column Short_Contracts? .[Numeric Input –Example- If the answer is 0.67 or 67% write it as 67 in the blank] .[Numeric Input rounded up (no decimals) –Example- If the answer is 23.67 or 24% write it as 24 in the blank] [[Create a cross tabulation using Churn and Short_Contracts columns and calculate percentage on the basis of total no. of observations or rows in the data. In other words use total rows in the data as denominator for percentage]]\n",
    "def shortCheck(MonthtoMonth, tenure_bucket):\n",
    "    if MonthtoMonth == 1 and tenure_bucket == 'short':\n",
    "        f = 'Yes'\n",
    "    else:\n",
    "        f = 'No'\n",
    "    return f\n",
    "df['Short_Contracts'] = df.apply(lambda x: shortCheck(x['MonthtoMonth'], x['tenure_bucket']), axis=1)\n",
    "df2 = df[df['Churn']=='Yes']\n",
    "print(df2.Short_Contracts.value_counts(normalize=True))\n",
    "# Answer is 53%  of short contract are tend to churn"
   ]
  },
  {
   "cell_type": "code",
   "execution_count": 22,
   "id": "17b27401",
   "metadata": {},
   "outputs": [
    {
     "data": {
      "text/plain": [
       "0    0.664206\n",
       "1    0.335794\n",
       "Name: PaymentMethodEncode, dtype: float64"
      ]
     },
     "execution_count": 22,
     "metadata": {},
     "output_type": "execute_result"
    }
   ],
   "source": [
    "# QUESTION 17\n",
    "# Create a new column called (Short_Contracts) that’s a combination of Month-to-Month Contracts and customers with short tenures (less than 12 months). __ is the churn percentage for this column Short_Contracts? .[Numeric Input –Example- If the answer is 0.67 or 67% write it as 67 in the blank] .[Numeric Input rounded up (no decimals) –Example- If the answer is 23.67 or 24% write it as 24 in the blank] [[Create a cross tabulation using Churn and Short_Contracts columns and calculate percentage on the basis of total no. of observations or rows in the data. In other words use total rows in the data as denominator for percentage]]\n",
    "\n",
    "def PaymentMethodCheck(PaymentMethod):\n",
    "    if PaymentMethod == 'Electronic check':\n",
    "        f = 1\n",
    "    else:\n",
    "        f = 0\n",
    "    return f\n",
    "df['PaymentMethodEncode'] = df.apply(lambda x: PaymentMethodCheck(x['PaymentMethod']), axis = 1)\n",
    "df.PaymentMethodEncode.value_counts(normalize=True)\n",
    "# Answer\n",
    "# 33 is the percentage of churn who opt for Electronic check as a payment methos\n",
    "# 66 if the percentage of churn who opt for automatic payment methods"
   ]
  },
  {
   "cell_type": "code",
   "execution_count": 23,
   "id": "0ba7d132",
   "metadata": {},
   "outputs": [
    {
     "data": {
      "text/plain": [
       "1    0.615837\n",
       "0    0.384163\n",
       "Name: No_bucket, dtype: float64"
      ]
     },
     "execution_count": 23,
     "metadata": {},
     "output_type": "execute_result"
    }
   ],
   "source": [
    "# Question 18\n",
    "# 6. Create a new column to flag those with No Online Security, No Tech Support, No Device Protection and No Online Backup. _______ is the churn percentage for this column? .[Numeric Input rounded up (no decimals) –Example- If the answer is 23.67 or 24% write it as 24 in the blank] [[Create a cross tabulation using Churn and this new column and calculate percentage on the basis of total no. of observations or  rows in the data. In other words use total rows in the data as denominator for percentage]] \n",
    "\n",
    "def nobucketcheck(OnlineSecurity, TechSupport, DeviceProtection, OnlineBackup):\n",
    "    if OnlineSecurity == 'No' and TechSupport == 'No' and DeviceProtection == 'No' and OnlineBackup == 'No':\n",
    "        f = 0\n",
    "    else:\n",
    "        f = 1\n",
    "    return f\n",
    "df['No_bucket'] = df.apply(lambda x: nobucketcheck(x['OnlineSecurity'], x['TechSupport'], x['DeviceProtection'], x['OnlineBackup']), axis=1)\n",
    "df4 = df[df['Churn']=='Yes']\n",
    "df4.No_bucket.value_counts(normalize=True)\n",
    "# 38% is tend to churn"
   ]
  },
  {
   "cell_type": "code",
   "execution_count": 24,
   "id": "9e64fa0c",
   "metadata": {},
   "outputs": [
    {
     "name": "stdout",
     "output_type": "stream",
     "text": [
      "High      0.767790\n",
      "medium    0.131621\n",
      "low       0.100589\n",
      "Name: MonthlyCharges_bucket, dtype: float64\n"
     ]
    }
   ],
   "source": [
    "# QUESTION 19\n",
    "# Its also seen from the data, that those who pay high monthly charges are likely to churn as compared to those who pay less monthly charges. To bring out this information in the model, flag those rows with monthly charges less than 35 as low, 35 to 55 as medium and above 55 as High. _____ is the churn percentage amongst those who pay high monthly charges.\n",
    "\n",
    "# [Numeric Input rounded up (no decimals) –Example- If the answer is 23.67 or 24% write it as 24 in the blank] [[Create a cross tabulation using Churn and the bucketed Monthly Charges column and calculate percentage on the basis of total no. of observations or rows in the data. In other words use total rows in the data as denominator for percentage]]\n",
    "def MonthlyChargesBucketCheck(MonthlyCharges):\n",
    "    if MonthlyCharges < 35:\n",
    "        f = 'low'\n",
    "    elif MonthlyCharges >=35 and MonthlyCharges < 55:\n",
    "        f = 'medium'\n",
    "    else:\n",
    "        f = 'High'\n",
    "    return f\n",
    "        \n",
    "df['MonthlyCharges_bucket'] = df.apply(lambda x: MonthlyChargesBucketCheck(x['MonthlyCharges']), axis=1)\n",
    "df5 = df[df['Churn']=='Yes']\n",
    "print(df5.MonthlyCharges_bucket.value_counts(normalize=True))\n",
    "# Answer is\n",
    "# High    77%\n",
    "# medium  13%\n",
    "# low     10%"
   ]
  },
  {
   "cell_type": "code",
   "execution_count": 25,
   "id": "d1f6aca1",
   "metadata": {},
   "outputs": [
    {
     "data": {
      "text/html": [
       "<div>\n",
       "<style scoped>\n",
       "    .dataframe tbody tr th:only-of-type {\n",
       "        vertical-align: middle;\n",
       "    }\n",
       "\n",
       "    .dataframe tbody tr th {\n",
       "        vertical-align: top;\n",
       "    }\n",
       "\n",
       "    .dataframe thead th {\n",
       "        text-align: right;\n",
       "    }\n",
       "</style>\n",
       "<table border=\"1\" class=\"dataframe\">\n",
       "  <thead>\n",
       "    <tr style=\"text-align: right;\">\n",
       "      <th></th>\n",
       "      <th>customerID</th>\n",
       "      <th>gender</th>\n",
       "      <th>SeniorCitizen</th>\n",
       "      <th>Partner</th>\n",
       "      <th>Dependents</th>\n",
       "      <th>tenure</th>\n",
       "      <th>PhoneService</th>\n",
       "      <th>MultipleLines</th>\n",
       "      <th>InternetService</th>\n",
       "      <th>OnlineSecurity</th>\n",
       "      <th>OnlineBackup</th>\n",
       "      <th>DeviceProtection</th>\n",
       "      <th>TechSupport</th>\n",
       "      <th>StreamingTV</th>\n",
       "      <th>StreamingMovies</th>\n",
       "      <th>Contract</th>\n",
       "      <th>PaperlessBilling</th>\n",
       "      <th>PaymentMethod</th>\n",
       "      <th>MonthlyCharges</th>\n",
       "      <th>Churn</th>\n",
       "      <th>singles</th>\n",
       "      <th>MonthtoMonth</th>\n",
       "      <th>tenure_bucket</th>\n",
       "      <th>Short_Contracts</th>\n",
       "      <th>PaymentMethodEncode</th>\n",
       "      <th>No_bucket</th>\n",
       "      <th>MonthlyCharges_bucket</th>\n",
       "    </tr>\n",
       "  </thead>\n",
       "  <tbody>\n",
       "    <tr>\n",
       "      <th>0</th>\n",
       "      <td>7590-VHVEG</td>\n",
       "      <td>Female</td>\n",
       "      <td>0</td>\n",
       "      <td>Yes</td>\n",
       "      <td>No</td>\n",
       "      <td>1</td>\n",
       "      <td>No</td>\n",
       "      <td>No phone service</td>\n",
       "      <td>DSL</td>\n",
       "      <td>No</td>\n",
       "      <td>Yes</td>\n",
       "      <td>No</td>\n",
       "      <td>No</td>\n",
       "      <td>No</td>\n",
       "      <td>No</td>\n",
       "      <td>Month-to-month</td>\n",
       "      <td>Yes</td>\n",
       "      <td>Electronic check</td>\n",
       "      <td>29.850000</td>\n",
       "      <td>No</td>\n",
       "      <td>No</td>\n",
       "      <td>1</td>\n",
       "      <td>short</td>\n",
       "      <td>Yes</td>\n",
       "      <td>1</td>\n",
       "      <td>1</td>\n",
       "      <td>low</td>\n",
       "    </tr>\n",
       "    <tr>\n",
       "      <th>1</th>\n",
       "      <td>5575-GNVDE</td>\n",
       "      <td>Male</td>\n",
       "      <td>0</td>\n",
       "      <td>No</td>\n",
       "      <td>No</td>\n",
       "      <td>34</td>\n",
       "      <td>Yes</td>\n",
       "      <td>No</td>\n",
       "      <td>DSL</td>\n",
       "      <td>Yes</td>\n",
       "      <td>No</td>\n",
       "      <td>Yes</td>\n",
       "      <td>No</td>\n",
       "      <td>No</td>\n",
       "      <td>No</td>\n",
       "      <td>One year</td>\n",
       "      <td>No</td>\n",
       "      <td>Mailed check</td>\n",
       "      <td>56.950000</td>\n",
       "      <td>No</td>\n",
       "      <td>Yes</td>\n",
       "      <td>0</td>\n",
       "      <td>medium</td>\n",
       "      <td>No</td>\n",
       "      <td>0</td>\n",
       "      <td>1</td>\n",
       "      <td>High</td>\n",
       "    </tr>\n",
       "    <tr>\n",
       "      <th>2</th>\n",
       "      <td>3668-QPYBK</td>\n",
       "      <td>Male</td>\n",
       "      <td>0</td>\n",
       "      <td>No</td>\n",
       "      <td>No</td>\n",
       "      <td>2</td>\n",
       "      <td>Yes</td>\n",
       "      <td>No</td>\n",
       "      <td>DSL</td>\n",
       "      <td>Yes</td>\n",
       "      <td>Yes</td>\n",
       "      <td>No</td>\n",
       "      <td>No</td>\n",
       "      <td>No</td>\n",
       "      <td>No</td>\n",
       "      <td>Month-to-month</td>\n",
       "      <td>Yes</td>\n",
       "      <td>Mailed check</td>\n",
       "      <td>53.850000</td>\n",
       "      <td>Yes</td>\n",
       "      <td>Yes</td>\n",
       "      <td>1</td>\n",
       "      <td>short</td>\n",
       "      <td>Yes</td>\n",
       "      <td>0</td>\n",
       "      <td>1</td>\n",
       "      <td>medium</td>\n",
       "    </tr>\n",
       "    <tr>\n",
       "      <th>3</th>\n",
       "      <td>7795-CFOCW</td>\n",
       "      <td>Male</td>\n",
       "      <td>0</td>\n",
       "      <td>No</td>\n",
       "      <td>No</td>\n",
       "      <td>45</td>\n",
       "      <td>No</td>\n",
       "      <td>No phone service</td>\n",
       "      <td>DSL</td>\n",
       "      <td>Yes</td>\n",
       "      <td>No</td>\n",
       "      <td>Yes</td>\n",
       "      <td>Yes</td>\n",
       "      <td>No</td>\n",
       "      <td>No</td>\n",
       "      <td>One year</td>\n",
       "      <td>No</td>\n",
       "      <td>Bank transfer (automatic)</td>\n",
       "      <td>42.300000</td>\n",
       "      <td>No</td>\n",
       "      <td>Yes</td>\n",
       "      <td>0</td>\n",
       "      <td>long</td>\n",
       "      <td>No</td>\n",
       "      <td>0</td>\n",
       "      <td>1</td>\n",
       "      <td>medium</td>\n",
       "    </tr>\n",
       "    <tr>\n",
       "      <th>4</th>\n",
       "      <td>9237-HQITU</td>\n",
       "      <td>Female</td>\n",
       "      <td>0</td>\n",
       "      <td>No</td>\n",
       "      <td>No</td>\n",
       "      <td>2</td>\n",
       "      <td>Yes</td>\n",
       "      <td>No</td>\n",
       "      <td>Fiber optic</td>\n",
       "      <td>No</td>\n",
       "      <td>No</td>\n",
       "      <td>No</td>\n",
       "      <td>No</td>\n",
       "      <td>No</td>\n",
       "      <td>No</td>\n",
       "      <td>Month-to-month</td>\n",
       "      <td>Yes</td>\n",
       "      <td>Electronic check</td>\n",
       "      <td>64.588203</td>\n",
       "      <td>Yes</td>\n",
       "      <td>Yes</td>\n",
       "      <td>1</td>\n",
       "      <td>short</td>\n",
       "      <td>Yes</td>\n",
       "      <td>1</td>\n",
       "      <td>0</td>\n",
       "      <td>High</td>\n",
       "    </tr>\n",
       "  </tbody>\n",
       "</table>\n",
       "</div>"
      ],
      "text/plain": [
       "   customerID  gender  SeniorCitizen Partner Dependents  tenure PhoneService  \\\n",
       "0  7590-VHVEG  Female              0     Yes         No       1           No   \n",
       "1  5575-GNVDE    Male              0      No         No      34          Yes   \n",
       "2  3668-QPYBK    Male              0      No         No       2          Yes   \n",
       "3  7795-CFOCW    Male              0      No         No      45           No   \n",
       "4  9237-HQITU  Female              0      No         No       2          Yes   \n",
       "\n",
       "      MultipleLines InternetService OnlineSecurity OnlineBackup  \\\n",
       "0  No phone service             DSL             No          Yes   \n",
       "1                No             DSL            Yes           No   \n",
       "2                No             DSL            Yes          Yes   \n",
       "3  No phone service             DSL            Yes           No   \n",
       "4                No     Fiber optic             No           No   \n",
       "\n",
       "  DeviceProtection TechSupport StreamingTV StreamingMovies        Contract  \\\n",
       "0               No          No          No              No  Month-to-month   \n",
       "1              Yes          No          No              No        One year   \n",
       "2               No          No          No              No  Month-to-month   \n",
       "3              Yes         Yes          No              No        One year   \n",
       "4               No          No          No              No  Month-to-month   \n",
       "\n",
       "  PaperlessBilling              PaymentMethod  MonthlyCharges Churn singles  \\\n",
       "0              Yes           Electronic check       29.850000    No      No   \n",
       "1               No               Mailed check       56.950000    No     Yes   \n",
       "2              Yes               Mailed check       53.850000   Yes     Yes   \n",
       "3               No  Bank transfer (automatic)       42.300000    No     Yes   \n",
       "4              Yes           Electronic check       64.588203   Yes     Yes   \n",
       "\n",
       "   MonthtoMonth tenure_bucket Short_Contracts  PaymentMethodEncode  No_bucket  \\\n",
       "0             1         short             Yes                    1          1   \n",
       "1             0        medium              No                    0          1   \n",
       "2             1         short             Yes                    0          1   \n",
       "3             0          long              No                    0          1   \n",
       "4             1         short             Yes                    1          0   \n",
       "\n",
       "  MonthlyCharges_bucket  \n",
       "0                   low  \n",
       "1                  High  \n",
       "2                medium  \n",
       "3                medium  \n",
       "4                  High  "
      ]
     },
     "execution_count": 25,
     "metadata": {},
     "output_type": "execute_result"
    }
   ],
   "source": [
    "df.head()"
   ]
  },
  {
   "cell_type": "code",
   "execution_count": 26,
   "id": "3b131386",
   "metadata": {},
   "outputs": [],
   "source": [
    "df1 = df.copy()\n",
    "df1 = df1.drop(['customerID', 'Partner', \"Dependents\", \"tenure\", \"Contract\", 'PaymentMethod', \"TechSupport\", \"DeviceProtection\", \"OnlineBackup\", \"OnlineSecurity\", \"MonthlyCharges\", 'MonthtoMonth', 'tenure_bucket'], axis=1)"
   ]
  },
  {
   "cell_type": "code",
   "execution_count": 27,
   "id": "2be33227",
   "metadata": {},
   "outputs": [
    {
     "data": {
      "text/html": [
       "<div>\n",
       "<style scoped>\n",
       "    .dataframe tbody tr th:only-of-type {\n",
       "        vertical-align: middle;\n",
       "    }\n",
       "\n",
       "    .dataframe tbody tr th {\n",
       "        vertical-align: top;\n",
       "    }\n",
       "\n",
       "    .dataframe thead th {\n",
       "        text-align: right;\n",
       "    }\n",
       "</style>\n",
       "<table border=\"1\" class=\"dataframe\">\n",
       "  <thead>\n",
       "    <tr style=\"text-align: right;\">\n",
       "      <th></th>\n",
       "      <th>gender</th>\n",
       "      <th>SeniorCitizen</th>\n",
       "      <th>PhoneService</th>\n",
       "      <th>MultipleLines</th>\n",
       "      <th>InternetService</th>\n",
       "      <th>StreamingTV</th>\n",
       "      <th>StreamingMovies</th>\n",
       "      <th>PaperlessBilling</th>\n",
       "      <th>Churn</th>\n",
       "      <th>singles</th>\n",
       "      <th>Short_Contracts</th>\n",
       "      <th>PaymentMethodEncode</th>\n",
       "      <th>No_bucket</th>\n",
       "      <th>MonthlyCharges_bucket</th>\n",
       "    </tr>\n",
       "  </thead>\n",
       "  <tbody>\n",
       "    <tr>\n",
       "      <th>0</th>\n",
       "      <td>Female</td>\n",
       "      <td>0</td>\n",
       "      <td>No</td>\n",
       "      <td>No phone service</td>\n",
       "      <td>DSL</td>\n",
       "      <td>No</td>\n",
       "      <td>No</td>\n",
       "      <td>Yes</td>\n",
       "      <td>No</td>\n",
       "      <td>No</td>\n",
       "      <td>Yes</td>\n",
       "      <td>1</td>\n",
       "      <td>1</td>\n",
       "      <td>low</td>\n",
       "    </tr>\n",
       "    <tr>\n",
       "      <th>1</th>\n",
       "      <td>Male</td>\n",
       "      <td>0</td>\n",
       "      <td>Yes</td>\n",
       "      <td>No</td>\n",
       "      <td>DSL</td>\n",
       "      <td>No</td>\n",
       "      <td>No</td>\n",
       "      <td>No</td>\n",
       "      <td>No</td>\n",
       "      <td>Yes</td>\n",
       "      <td>No</td>\n",
       "      <td>0</td>\n",
       "      <td>1</td>\n",
       "      <td>High</td>\n",
       "    </tr>\n",
       "    <tr>\n",
       "      <th>2</th>\n",
       "      <td>Male</td>\n",
       "      <td>0</td>\n",
       "      <td>Yes</td>\n",
       "      <td>No</td>\n",
       "      <td>DSL</td>\n",
       "      <td>No</td>\n",
       "      <td>No</td>\n",
       "      <td>Yes</td>\n",
       "      <td>Yes</td>\n",
       "      <td>Yes</td>\n",
       "      <td>Yes</td>\n",
       "      <td>0</td>\n",
       "      <td>1</td>\n",
       "      <td>medium</td>\n",
       "    </tr>\n",
       "    <tr>\n",
       "      <th>3</th>\n",
       "      <td>Male</td>\n",
       "      <td>0</td>\n",
       "      <td>No</td>\n",
       "      <td>No phone service</td>\n",
       "      <td>DSL</td>\n",
       "      <td>No</td>\n",
       "      <td>No</td>\n",
       "      <td>No</td>\n",
       "      <td>No</td>\n",
       "      <td>Yes</td>\n",
       "      <td>No</td>\n",
       "      <td>0</td>\n",
       "      <td>1</td>\n",
       "      <td>medium</td>\n",
       "    </tr>\n",
       "    <tr>\n",
       "      <th>4</th>\n",
       "      <td>Female</td>\n",
       "      <td>0</td>\n",
       "      <td>Yes</td>\n",
       "      <td>No</td>\n",
       "      <td>Fiber optic</td>\n",
       "      <td>No</td>\n",
       "      <td>No</td>\n",
       "      <td>Yes</td>\n",
       "      <td>Yes</td>\n",
       "      <td>Yes</td>\n",
       "      <td>Yes</td>\n",
       "      <td>1</td>\n",
       "      <td>0</td>\n",
       "      <td>High</td>\n",
       "    </tr>\n",
       "  </tbody>\n",
       "</table>\n",
       "</div>"
      ],
      "text/plain": [
       "   gender  SeniorCitizen PhoneService     MultipleLines InternetService  \\\n",
       "0  Female              0           No  No phone service             DSL   \n",
       "1    Male              0          Yes                No             DSL   \n",
       "2    Male              0          Yes                No             DSL   \n",
       "3    Male              0           No  No phone service             DSL   \n",
       "4  Female              0          Yes                No     Fiber optic   \n",
       "\n",
       "  StreamingTV StreamingMovies PaperlessBilling Churn singles Short_Contracts  \\\n",
       "0          No              No              Yes    No      No             Yes   \n",
       "1          No              No               No    No     Yes              No   \n",
       "2          No              No              Yes   Yes     Yes             Yes   \n",
       "3          No              No               No    No     Yes              No   \n",
       "4          No              No              Yes   Yes     Yes             Yes   \n",
       "\n",
       "   PaymentMethodEncode  No_bucket MonthlyCharges_bucket  \n",
       "0                    1          1                   low  \n",
       "1                    0          1                  High  \n",
       "2                    0          1                medium  \n",
       "3                    0          1                medium  \n",
       "4                    1          0                  High  "
      ]
     },
     "execution_count": 27,
     "metadata": {},
     "output_type": "execute_result"
    }
   ],
   "source": [
    "df1.head()"
   ]
  },
  {
   "cell_type": "code",
   "execution_count": 28,
   "id": "6af67546",
   "metadata": {},
   "outputs": [],
   "source": [
    "df1['Churn'] = np.where(df['Churn']=='Yes', 1, 0)"
   ]
  },
  {
   "cell_type": "code",
   "execution_count": 29,
   "id": "401005bb",
   "metadata": {},
   "outputs": [
    {
     "data": {
      "text/plain": [
       "['gender',\n",
       " 'PhoneService',\n",
       " 'MultipleLines',\n",
       " 'InternetService',\n",
       " 'StreamingTV',\n",
       " 'StreamingMovies',\n",
       " 'PaperlessBilling',\n",
       " 'singles',\n",
       " 'Short_Contracts',\n",
       " 'MonthlyCharges_bucket']"
      ]
     },
     "execution_count": 29,
     "metadata": {},
     "output_type": "execute_result"
    }
   ],
   "source": [
    "categorical_features = [feature for feature in df1.columns if df1[feature].dtype=='O']\n",
    "categorical_features"
   ]
  },
  {
   "cell_type": "code",
   "execution_count": 30,
   "id": "ec4dabbe",
   "metadata": {},
   "outputs": [
    {
     "name": "stdout",
     "output_type": "stream",
     "text": [
      "Male      3555\n",
      "Female    3488\n",
      "Name: gender, dtype: int64\n",
      "\n",
      "\n",
      "Yes    6361\n",
      "No      682\n",
      "Name: PhoneService, dtype: int64\n",
      "\n",
      "\n",
      "No                  3390\n",
      "Yes                 2971\n",
      "No phone service     682\n",
      "Name: MultipleLines, dtype: int64\n",
      "\n",
      "\n",
      "Fiber optic    3096\n",
      "DSL            2421\n",
      "No             1526\n",
      "Name: InternetService, dtype: int64\n",
      "\n",
      "\n",
      "No                     2810\n",
      "Yes                    2707\n",
      "No internet service    1526\n",
      "Name: StreamingTV, dtype: int64\n",
      "\n",
      "\n",
      "No                     2785\n",
      "Yes                    2732\n",
      "No internet service    1526\n",
      "Name: StreamingMovies, dtype: int64\n",
      "\n",
      "\n",
      "Yes    4171\n",
      "No     2872\n",
      "Name: PaperlessBilling, dtype: int64\n",
      "\n",
      "\n",
      "No     3763\n",
      "Yes    3280\n",
      "Name: singles, dtype: int64\n",
      "\n",
      "\n",
      "No     5135\n",
      "Yes    1908\n",
      "Name: Short_Contracts, dtype: int64\n",
      "\n",
      "\n",
      "High      4423\n",
      "low       1731\n",
      "medium     889\n",
      "Name: MonthlyCharges_bucket, dtype: int64\n",
      "\n",
      "\n"
     ]
    }
   ],
   "source": [
    "for feature in categorical_features:\n",
    "    print(df1[feature].value_counts())\n",
    "    print('\\n')"
   ]
  },
  {
   "cell_type": "code",
   "execution_count": 31,
   "id": "7c07481b",
   "metadata": {},
   "outputs": [
    {
     "data": {
      "text/plain": [
       "dtype('int64')"
      ]
     },
     "execution_count": 31,
     "metadata": {},
     "output_type": "execute_result"
    }
   ],
   "source": [
    "# Ordinal Encoding\n",
    "dicts = {'High':3, 'low':1, 'medium':2}\n",
    "df1['MonthlyCharges_bucket']=df1['MonthlyCharges_bucket'].map(dicts)\n",
    "df1['MonthlyCharges_bucket'].dtype"
   ]
  },
  {
   "cell_type": "code",
   "execution_count": 32,
   "id": "9ba250ae",
   "metadata": {},
   "outputs": [
    {
     "data": {
      "text/html": [
       "<div>\n",
       "<style scoped>\n",
       "    .dataframe tbody tr th:only-of-type {\n",
       "        vertical-align: middle;\n",
       "    }\n",
       "\n",
       "    .dataframe tbody tr th {\n",
       "        vertical-align: top;\n",
       "    }\n",
       "\n",
       "    .dataframe thead th {\n",
       "        text-align: right;\n",
       "    }\n",
       "</style>\n",
       "<table border=\"1\" class=\"dataframe\">\n",
       "  <thead>\n",
       "    <tr style=\"text-align: right;\">\n",
       "      <th></th>\n",
       "      <th>SeniorCitizen</th>\n",
       "      <th>Churn</th>\n",
       "      <th>PaymentMethodEncode</th>\n",
       "      <th>No_bucket</th>\n",
       "      <th>MonthlyCharges_bucket</th>\n",
       "      <th>gender_Male</th>\n",
       "      <th>PhoneService_Yes</th>\n",
       "      <th>MultipleLines_No phone service</th>\n",
       "      <th>MultipleLines_Yes</th>\n",
       "      <th>InternetService_Fiber optic</th>\n",
       "      <th>InternetService_No</th>\n",
       "      <th>StreamingTV_No internet service</th>\n",
       "      <th>StreamingTV_Yes</th>\n",
       "      <th>StreamingMovies_No internet service</th>\n",
       "      <th>StreamingMovies_Yes</th>\n",
       "      <th>PaperlessBilling_Yes</th>\n",
       "      <th>singles_Yes</th>\n",
       "      <th>Short_Contracts_Yes</th>\n",
       "    </tr>\n",
       "  </thead>\n",
       "  <tbody>\n",
       "    <tr>\n",
       "      <th>0</th>\n",
       "      <td>0</td>\n",
       "      <td>0</td>\n",
       "      <td>1</td>\n",
       "      <td>1</td>\n",
       "      <td>1</td>\n",
       "      <td>0</td>\n",
       "      <td>0</td>\n",
       "      <td>1</td>\n",
       "      <td>0</td>\n",
       "      <td>0</td>\n",
       "      <td>0</td>\n",
       "      <td>0</td>\n",
       "      <td>0</td>\n",
       "      <td>0</td>\n",
       "      <td>0</td>\n",
       "      <td>1</td>\n",
       "      <td>0</td>\n",
       "      <td>1</td>\n",
       "    </tr>\n",
       "    <tr>\n",
       "      <th>1</th>\n",
       "      <td>0</td>\n",
       "      <td>0</td>\n",
       "      <td>0</td>\n",
       "      <td>1</td>\n",
       "      <td>3</td>\n",
       "      <td>1</td>\n",
       "      <td>1</td>\n",
       "      <td>0</td>\n",
       "      <td>0</td>\n",
       "      <td>0</td>\n",
       "      <td>0</td>\n",
       "      <td>0</td>\n",
       "      <td>0</td>\n",
       "      <td>0</td>\n",
       "      <td>0</td>\n",
       "      <td>0</td>\n",
       "      <td>1</td>\n",
       "      <td>0</td>\n",
       "    </tr>\n",
       "    <tr>\n",
       "      <th>2</th>\n",
       "      <td>0</td>\n",
       "      <td>1</td>\n",
       "      <td>0</td>\n",
       "      <td>1</td>\n",
       "      <td>2</td>\n",
       "      <td>1</td>\n",
       "      <td>1</td>\n",
       "      <td>0</td>\n",
       "      <td>0</td>\n",
       "      <td>0</td>\n",
       "      <td>0</td>\n",
       "      <td>0</td>\n",
       "      <td>0</td>\n",
       "      <td>0</td>\n",
       "      <td>0</td>\n",
       "      <td>1</td>\n",
       "      <td>1</td>\n",
       "      <td>1</td>\n",
       "    </tr>\n",
       "    <tr>\n",
       "      <th>3</th>\n",
       "      <td>0</td>\n",
       "      <td>0</td>\n",
       "      <td>0</td>\n",
       "      <td>1</td>\n",
       "      <td>2</td>\n",
       "      <td>1</td>\n",
       "      <td>0</td>\n",
       "      <td>1</td>\n",
       "      <td>0</td>\n",
       "      <td>0</td>\n",
       "      <td>0</td>\n",
       "      <td>0</td>\n",
       "      <td>0</td>\n",
       "      <td>0</td>\n",
       "      <td>0</td>\n",
       "      <td>0</td>\n",
       "      <td>1</td>\n",
       "      <td>0</td>\n",
       "    </tr>\n",
       "    <tr>\n",
       "      <th>4</th>\n",
       "      <td>0</td>\n",
       "      <td>1</td>\n",
       "      <td>1</td>\n",
       "      <td>0</td>\n",
       "      <td>3</td>\n",
       "      <td>0</td>\n",
       "      <td>1</td>\n",
       "      <td>0</td>\n",
       "      <td>0</td>\n",
       "      <td>1</td>\n",
       "      <td>0</td>\n",
       "      <td>0</td>\n",
       "      <td>0</td>\n",
       "      <td>0</td>\n",
       "      <td>0</td>\n",
       "      <td>1</td>\n",
       "      <td>1</td>\n",
       "      <td>1</td>\n",
       "    </tr>\n",
       "  </tbody>\n",
       "</table>\n",
       "</div>"
      ],
      "text/plain": [
       "   SeniorCitizen  Churn  PaymentMethodEncode  No_bucket  \\\n",
       "0              0      0                    1          1   \n",
       "1              0      0                    0          1   \n",
       "2              0      1                    0          1   \n",
       "3              0      0                    0          1   \n",
       "4              0      1                    1          0   \n",
       "\n",
       "   MonthlyCharges_bucket  gender_Male  PhoneService_Yes  \\\n",
       "0                      1            0                 0   \n",
       "1                      3            1                 1   \n",
       "2                      2            1                 1   \n",
       "3                      2            1                 0   \n",
       "4                      3            0                 1   \n",
       "\n",
       "   MultipleLines_No phone service  MultipleLines_Yes  \\\n",
       "0                               1                  0   \n",
       "1                               0                  0   \n",
       "2                               0                  0   \n",
       "3                               1                  0   \n",
       "4                               0                  0   \n",
       "\n",
       "   InternetService_Fiber optic  InternetService_No  \\\n",
       "0                            0                   0   \n",
       "1                            0                   0   \n",
       "2                            0                   0   \n",
       "3                            0                   0   \n",
       "4                            1                   0   \n",
       "\n",
       "   StreamingTV_No internet service  StreamingTV_Yes  \\\n",
       "0                                0                0   \n",
       "1                                0                0   \n",
       "2                                0                0   \n",
       "3                                0                0   \n",
       "4                                0                0   \n",
       "\n",
       "   StreamingMovies_No internet service  StreamingMovies_Yes  \\\n",
       "0                                    0                    0   \n",
       "1                                    0                    0   \n",
       "2                                    0                    0   \n",
       "3                                    0                    0   \n",
       "4                                    0                    0   \n",
       "\n",
       "   PaperlessBilling_Yes  singles_Yes  Short_Contracts_Yes  \n",
       "0                     1            0                    1  \n",
       "1                     0            1                    0  \n",
       "2                     1            1                    1  \n",
       "3                     0            1                    0  \n",
       "4                     1            1                    1  "
      ]
     },
     "execution_count": 32,
     "metadata": {},
     "output_type": "execute_result"
    }
   ],
   "source": [
    "# One Hot Encoding\n",
    "df2 = pd.get_dummies(df1, drop_first=True)\n",
    "df2.head()"
   ]
  },
  {
   "cell_type": "code",
   "execution_count": 33,
   "id": "cacd59bf",
   "metadata": {},
   "outputs": [
    {
     "data": {
      "text/plain": [
       "(7043, 18)"
      ]
     },
     "execution_count": 33,
     "metadata": {},
     "output_type": "execute_result"
    }
   ],
   "source": [
    "df2.shape"
   ]
  },
  {
   "cell_type": "code",
   "execution_count": 34,
   "id": "3932b23a",
   "metadata": {},
   "outputs": [],
   "source": [
    "X = df2.drop('Churn', axis=1)\n",
    "y = df2.Churn"
   ]
  },
  {
   "cell_type": "code",
   "execution_count": 35,
   "id": "c410e145",
   "metadata": {},
   "outputs": [
    {
     "data": {
      "text/html": [
       "<div>\n",
       "<style scoped>\n",
       "    .dataframe tbody tr th:only-of-type {\n",
       "        vertical-align: middle;\n",
       "    }\n",
       "\n",
       "    .dataframe tbody tr th {\n",
       "        vertical-align: top;\n",
       "    }\n",
       "\n",
       "    .dataframe thead th {\n",
       "        text-align: right;\n",
       "    }\n",
       "</style>\n",
       "<table border=\"1\" class=\"dataframe\">\n",
       "  <thead>\n",
       "    <tr style=\"text-align: right;\">\n",
       "      <th></th>\n",
       "      <th>SeniorCitizen</th>\n",
       "      <th>PaymentMethodEncode</th>\n",
       "      <th>No_bucket</th>\n",
       "      <th>MonthlyCharges_bucket</th>\n",
       "      <th>gender_Male</th>\n",
       "      <th>PhoneService_Yes</th>\n",
       "      <th>MultipleLines_No phone service</th>\n",
       "      <th>MultipleLines_Yes</th>\n",
       "      <th>InternetService_Fiber optic</th>\n",
       "      <th>InternetService_No</th>\n",
       "      <th>StreamingTV_No internet service</th>\n",
       "      <th>StreamingTV_Yes</th>\n",
       "      <th>StreamingMovies_No internet service</th>\n",
       "      <th>StreamingMovies_Yes</th>\n",
       "      <th>PaperlessBilling_Yes</th>\n",
       "      <th>singles_Yes</th>\n",
       "      <th>Short_Contracts_Yes</th>\n",
       "    </tr>\n",
       "  </thead>\n",
       "  <tbody>\n",
       "    <tr>\n",
       "      <th>0</th>\n",
       "      <td>0</td>\n",
       "      <td>1</td>\n",
       "      <td>1</td>\n",
       "      <td>1</td>\n",
       "      <td>0</td>\n",
       "      <td>0</td>\n",
       "      <td>1</td>\n",
       "      <td>0</td>\n",
       "      <td>0</td>\n",
       "      <td>0</td>\n",
       "      <td>0</td>\n",
       "      <td>0</td>\n",
       "      <td>0</td>\n",
       "      <td>0</td>\n",
       "      <td>1</td>\n",
       "      <td>0</td>\n",
       "      <td>1</td>\n",
       "    </tr>\n",
       "    <tr>\n",
       "      <th>1</th>\n",
       "      <td>0</td>\n",
       "      <td>0</td>\n",
       "      <td>1</td>\n",
       "      <td>3</td>\n",
       "      <td>1</td>\n",
       "      <td>1</td>\n",
       "      <td>0</td>\n",
       "      <td>0</td>\n",
       "      <td>0</td>\n",
       "      <td>0</td>\n",
       "      <td>0</td>\n",
       "      <td>0</td>\n",
       "      <td>0</td>\n",
       "      <td>0</td>\n",
       "      <td>0</td>\n",
       "      <td>1</td>\n",
       "      <td>0</td>\n",
       "    </tr>\n",
       "  </tbody>\n",
       "</table>\n",
       "</div>"
      ],
      "text/plain": [
       "   SeniorCitizen  PaymentMethodEncode  No_bucket  MonthlyCharges_bucket  \\\n",
       "0              0                    1          1                      1   \n",
       "1              0                    0          1                      3   \n",
       "\n",
       "   gender_Male  PhoneService_Yes  MultipleLines_No phone service  \\\n",
       "0            0                 0                               1   \n",
       "1            1                 1                               0   \n",
       "\n",
       "   MultipleLines_Yes  InternetService_Fiber optic  InternetService_No  \\\n",
       "0                  0                            0                   0   \n",
       "1                  0                            0                   0   \n",
       "\n",
       "   StreamingTV_No internet service  StreamingTV_Yes  \\\n",
       "0                                0                0   \n",
       "1                                0                0   \n",
       "\n",
       "   StreamingMovies_No internet service  StreamingMovies_Yes  \\\n",
       "0                                    0                    0   \n",
       "1                                    0                    0   \n",
       "\n",
       "   PaperlessBilling_Yes  singles_Yes  Short_Contracts_Yes  \n",
       "0                     1            0                    1  \n",
       "1                     0            1                    0  "
      ]
     },
     "execution_count": 35,
     "metadata": {},
     "output_type": "execute_result"
    }
   ],
   "source": [
    "X.head(2)"
   ]
  },
  {
   "cell_type": "code",
   "execution_count": 36,
   "id": "9ceabf0f",
   "metadata": {},
   "outputs": [
    {
     "data": {
      "text/plain": [
       "0    0\n",
       "1    0\n",
       "Name: Churn, dtype: int32"
      ]
     },
     "execution_count": 36,
     "metadata": {},
     "output_type": "execute_result"
    }
   ],
   "source": [
    "y.head(2)"
   ]
  },
  {
   "cell_type": "code",
   "execution_count": 37,
   "id": "2362d40f",
   "metadata": {},
   "outputs": [
    {
     "data": {
      "text/plain": [
       "0    0.73463\n",
       "1    0.26537\n",
       "Name: Churn, dtype: float64"
      ]
     },
     "execution_count": 37,
     "metadata": {},
     "output_type": "execute_result"
    }
   ],
   "source": [
    "y.value_counts(normalize=True)"
   ]
  },
  {
   "cell_type": "code",
   "execution_count": 38,
   "id": "2e271750",
   "metadata": {},
   "outputs": [],
   "source": [
    "# Converting imbalanced dataset to Balanced using SMOTETomek\n",
    "from imblearn.combine import SMOTETomek\n",
    "smk = SMOTETomek(random_state=42)\n",
    "X_res,y_res=smk.fit_resample(X,y)"
   ]
  },
  {
   "cell_type": "code",
   "execution_count": 39,
   "id": "99284977",
   "metadata": {},
   "outputs": [
    {
     "data": {
      "text/plain": [
       "(10338, 17)"
      ]
     },
     "execution_count": 39,
     "metadata": {},
     "output_type": "execute_result"
    }
   ],
   "source": [
    "X_res.shape"
   ]
  },
  {
   "cell_type": "code",
   "execution_count": 40,
   "id": "4a95352e",
   "metadata": {},
   "outputs": [
    {
     "data": {
      "text/plain": [
       "(10338,)"
      ]
     },
     "execution_count": 40,
     "metadata": {},
     "output_type": "execute_result"
    }
   ],
   "source": [
    "y_res.shape"
   ]
  },
  {
   "cell_type": "code",
   "execution_count": 41,
   "id": "e869325d",
   "metadata": {},
   "outputs": [],
   "source": [
    "from sklearn.model_selection import train_test_split\n",
    "from sklearn.metrics import f1_score\n",
    "from sklearn.model_selection import cross_val_score\n",
    "from sklearn.model_selection import StratifiedKFold\n",
    "from sklearn.metrics import classification_report\n",
    "from sklearn.metrics import confusion_matrix\n",
    "from sklearn.metrics import accuracy_score\n",
    "from sklearn.linear_model import LogisticRegression\n",
    "from sklearn.ensemble import RandomForestClassifier\n",
    "from sklearn.tree import DecisionTreeClassifier\n",
    "from xgboost import XGBClassifier\n",
    "from sklearn.svm import SVC"
   ]
  },
  {
   "cell_type": "code",
   "execution_count": 42,
   "id": "a4870270",
   "metadata": {},
   "outputs": [],
   "source": [
    "# Splitout Validation Datdaset\n",
    "x_train, x_test, y_train, y_test = train_test_split(X_res, y_res, test_size=0.2, random_state=0)"
   ]
  },
  {
   "cell_type": "code",
   "execution_count": 43,
   "id": "1ced3e52",
   "metadata": {},
   "outputs": [],
   "source": [
    "# Spot Check Algorithms\n",
    "models = []\n",
    "models.append(('LR', LogisticRegression(solver='liblinear', multi_class='ovr')))\n",
    "models.append(('RF', RandomForestClassifier()))\n",
    "models.append(('Xgboost', XGBClassifier(random_state=7)))\n",
    "models.append(('DT', DecisionTreeClassifier()))\n",
    "models.append(('svm', SVC()))"
   ]
  },
  {
   "cell_type": "code",
   "execution_count": 44,
   "id": "cf7d7374",
   "metadata": {},
   "outputs": [
    {
     "name": "stdout",
     "output_type": "stream",
     "text": [
      "LR: 0.736155 (0.018590)\n",
      "RF: 0.760943 (0.017507)\n"
     ]
    },
    {
     "name": "stderr",
     "output_type": "stream",
     "text": [
      "C:\\Users\\91951\\AppData\\Roaming\\Python\\Python39\\site-packages\\xgboost\\sklearn.py:1224: UserWarning: The use of label encoder in XGBClassifier is deprecated and will be removed in a future release. To remove this warning, do the following: 1) Pass option use_label_encoder=False when constructing XGBClassifier object; and 2) Encode your labels (y) as integers starting with 0, i.e. 0, 1, 2, ..., [num_class - 1].\n",
      "  warnings.warn(label_encoder_deprecation_msg, UserWarning)\n"
     ]
    },
    {
     "name": "stdout",
     "output_type": "stream",
     "text": [
      "[20:30:27] WARNING: C:/Users/Administrator/workspace/xgboost-win64_release_1.5.0/src/learner.cc:1115: Starting in XGBoost 1.3.0, the default evaluation metric used with the objective 'binary:logistic' was changed from 'error' to 'logloss'. Explicitly set eval_metric if you'd like to restore the old behavior.\n"
     ]
    },
    {
     "name": "stderr",
     "output_type": "stream",
     "text": [
      "C:\\Users\\91951\\AppData\\Roaming\\Python\\Python39\\site-packages\\xgboost\\sklearn.py:1224: UserWarning: The use of label encoder in XGBClassifier is deprecated and will be removed in a future release. To remove this warning, do the following: 1) Pass option use_label_encoder=False when constructing XGBClassifier object; and 2) Encode your labels (y) as integers starting with 0, i.e. 0, 1, 2, ..., [num_class - 1].\n",
      "  warnings.warn(label_encoder_deprecation_msg, UserWarning)\n"
     ]
    },
    {
     "name": "stdout",
     "output_type": "stream",
     "text": [
      "[20:30:30] WARNING: C:/Users/Administrator/workspace/xgboost-win64_release_1.5.0/src/learner.cc:1115: Starting in XGBoost 1.3.0, the default evaluation metric used with the objective 'binary:logistic' was changed from 'error' to 'logloss'. Explicitly set eval_metric if you'd like to restore the old behavior.\n"
     ]
    },
    {
     "name": "stderr",
     "output_type": "stream",
     "text": [
      "C:\\Users\\91951\\AppData\\Roaming\\Python\\Python39\\site-packages\\xgboost\\sklearn.py:1224: UserWarning: The use of label encoder in XGBClassifier is deprecated and will be removed in a future release. To remove this warning, do the following: 1) Pass option use_label_encoder=False when constructing XGBClassifier object; and 2) Encode your labels (y) as integers starting with 0, i.e. 0, 1, 2, ..., [num_class - 1].\n",
      "  warnings.warn(label_encoder_deprecation_msg, UserWarning)\n"
     ]
    },
    {
     "name": "stdout",
     "output_type": "stream",
     "text": [
      "[20:30:33] WARNING: C:/Users/Administrator/workspace/xgboost-win64_release_1.5.0/src/learner.cc:1115: Starting in XGBoost 1.3.0, the default evaluation metric used with the objective 'binary:logistic' was changed from 'error' to 'logloss'. Explicitly set eval_metric if you'd like to restore the old behavior.\n"
     ]
    },
    {
     "name": "stderr",
     "output_type": "stream",
     "text": [
      "C:\\Users\\91951\\AppData\\Roaming\\Python\\Python39\\site-packages\\xgboost\\sklearn.py:1224: UserWarning: The use of label encoder in XGBClassifier is deprecated and will be removed in a future release. To remove this warning, do the following: 1) Pass option use_label_encoder=False when constructing XGBClassifier object; and 2) Encode your labels (y) as integers starting with 0, i.e. 0, 1, 2, ..., [num_class - 1].\n",
      "  warnings.warn(label_encoder_deprecation_msg, UserWarning)\n"
     ]
    },
    {
     "name": "stdout",
     "output_type": "stream",
     "text": [
      "[20:30:36] WARNING: C:/Users/Administrator/workspace/xgboost-win64_release_1.5.0/src/learner.cc:1115: Starting in XGBoost 1.3.0, the default evaluation metric used with the objective 'binary:logistic' was changed from 'error' to 'logloss'. Explicitly set eval_metric if you'd like to restore the old behavior.\n"
     ]
    },
    {
     "name": "stderr",
     "output_type": "stream",
     "text": [
      "C:\\Users\\91951\\AppData\\Roaming\\Python\\Python39\\site-packages\\xgboost\\sklearn.py:1224: UserWarning: The use of label encoder in XGBClassifier is deprecated and will be removed in a future release. To remove this warning, do the following: 1) Pass option use_label_encoder=False when constructing XGBClassifier object; and 2) Encode your labels (y) as integers starting with 0, i.e. 0, 1, 2, ..., [num_class - 1].\n",
      "  warnings.warn(label_encoder_deprecation_msg, UserWarning)\n"
     ]
    },
    {
     "name": "stdout",
     "output_type": "stream",
     "text": [
      "[20:30:37] WARNING: C:/Users/Administrator/workspace/xgboost-win64_release_1.5.0/src/learner.cc:1115: Starting in XGBoost 1.3.0, the default evaluation metric used with the objective 'binary:logistic' was changed from 'error' to 'logloss'. Explicitly set eval_metric if you'd like to restore the old behavior.\n"
     ]
    },
    {
     "name": "stderr",
     "output_type": "stream",
     "text": [
      "C:\\Users\\91951\\AppData\\Roaming\\Python\\Python39\\site-packages\\xgboost\\sklearn.py:1224: UserWarning: The use of label encoder in XGBClassifier is deprecated and will be removed in a future release. To remove this warning, do the following: 1) Pass option use_label_encoder=False when constructing XGBClassifier object; and 2) Encode your labels (y) as integers starting with 0, i.e. 0, 1, 2, ..., [num_class - 1].\n",
      "  warnings.warn(label_encoder_deprecation_msg, UserWarning)\n"
     ]
    },
    {
     "name": "stdout",
     "output_type": "stream",
     "text": [
      "[20:30:39] WARNING: C:/Users/Administrator/workspace/xgboost-win64_release_1.5.0/src/learner.cc:1115: Starting in XGBoost 1.3.0, the default evaluation metric used with the objective 'binary:logistic' was changed from 'error' to 'logloss'. Explicitly set eval_metric if you'd like to restore the old behavior.\n"
     ]
    },
    {
     "name": "stderr",
     "output_type": "stream",
     "text": [
      "C:\\Users\\91951\\AppData\\Roaming\\Python\\Python39\\site-packages\\xgboost\\sklearn.py:1224: UserWarning: The use of label encoder in XGBClassifier is deprecated and will be removed in a future release. To remove this warning, do the following: 1) Pass option use_label_encoder=False when constructing XGBClassifier object; and 2) Encode your labels (y) as integers starting with 0, i.e. 0, 1, 2, ..., [num_class - 1].\n",
      "  warnings.warn(label_encoder_deprecation_msg, UserWarning)\n"
     ]
    },
    {
     "name": "stdout",
     "output_type": "stream",
     "text": [
      "[20:30:41] WARNING: C:/Users/Administrator/workspace/xgboost-win64_release_1.5.0/src/learner.cc:1115: Starting in XGBoost 1.3.0, the default evaluation metric used with the objective 'binary:logistic' was changed from 'error' to 'logloss'. Explicitly set eval_metric if you'd like to restore the old behavior.\n"
     ]
    },
    {
     "name": "stderr",
     "output_type": "stream",
     "text": [
      "C:\\Users\\91951\\AppData\\Roaming\\Python\\Python39\\site-packages\\xgboost\\sklearn.py:1224: UserWarning: The use of label encoder in XGBClassifier is deprecated and will be removed in a future release. To remove this warning, do the following: 1) Pass option use_label_encoder=False when constructing XGBClassifier object; and 2) Encode your labels (y) as integers starting with 0, i.e. 0, 1, 2, ..., [num_class - 1].\n",
      "  warnings.warn(label_encoder_deprecation_msg, UserWarning)\n"
     ]
    },
    {
     "name": "stdout",
     "output_type": "stream",
     "text": [
      "[20:30:43] WARNING: C:/Users/Administrator/workspace/xgboost-win64_release_1.5.0/src/learner.cc:1115: Starting in XGBoost 1.3.0, the default evaluation metric used with the objective 'binary:logistic' was changed from 'error' to 'logloss'. Explicitly set eval_metric if you'd like to restore the old behavior.\n"
     ]
    },
    {
     "name": "stderr",
     "output_type": "stream",
     "text": [
      "C:\\Users\\91951\\AppData\\Roaming\\Python\\Python39\\site-packages\\xgboost\\sklearn.py:1224: UserWarning: The use of label encoder in XGBClassifier is deprecated and will be removed in a future release. To remove this warning, do the following: 1) Pass option use_label_encoder=False when constructing XGBClassifier object; and 2) Encode your labels (y) as integers starting with 0, i.e. 0, 1, 2, ..., [num_class - 1].\n",
      "  warnings.warn(label_encoder_deprecation_msg, UserWarning)\n"
     ]
    },
    {
     "name": "stdout",
     "output_type": "stream",
     "text": [
      "[20:30:46] WARNING: C:/Users/Administrator/workspace/xgboost-win64_release_1.5.0/src/learner.cc:1115: Starting in XGBoost 1.3.0, the default evaluation metric used with the objective 'binary:logistic' was changed from 'error' to 'logloss'. Explicitly set eval_metric if you'd like to restore the old behavior.\n"
     ]
    },
    {
     "name": "stderr",
     "output_type": "stream",
     "text": [
      "C:\\Users\\91951\\AppData\\Roaming\\Python\\Python39\\site-packages\\xgboost\\sklearn.py:1224: UserWarning: The use of label encoder in XGBClassifier is deprecated and will be removed in a future release. To remove this warning, do the following: 1) Pass option use_label_encoder=False when constructing XGBClassifier object; and 2) Encode your labels (y) as integers starting with 0, i.e. 0, 1, 2, ..., [num_class - 1].\n",
      "  warnings.warn(label_encoder_deprecation_msg, UserWarning)\n"
     ]
    },
    {
     "name": "stdout",
     "output_type": "stream",
     "text": [
      "[20:30:47] WARNING: C:/Users/Administrator/workspace/xgboost-win64_release_1.5.0/src/learner.cc:1115: Starting in XGBoost 1.3.0, the default evaluation metric used with the objective 'binary:logistic' was changed from 'error' to 'logloss'. Explicitly set eval_metric if you'd like to restore the old behavior.\n",
      "Xgboost: 0.753446 (0.017019)\n",
      "DT: 0.752963 (0.014800)\n",
      "svm: 0.739057 (0.019079)\n"
     ]
    }
   ],
   "source": [
    "# evaluate each model in turn\n",
    "results = []\n",
    "names = []\n",
    "for name, model in models:\n",
    "    kfold = StratifiedKFold(n_splits=10, random_state=1, shuffle=True)\n",
    "    cv_results = cross_val_score(model, x_train, y_train, cv=kfold, scoring='accuracy')\n",
    "    results.append(cv_results)\n",
    "    names.append(name)\n",
    "    print('%s: %f (%f)' % (name, cv_results.mean(), cv_results.std()))"
   ]
  },
  {
   "cell_type": "code",
   "execution_count": 45,
   "id": "b947b51c",
   "metadata": {},
   "outputs": [
    {
     "data": {
      "image/png": "[encoded data removed]",
      "text/plain": [
       "<Figure size 1080x504 with 1 Axes>"
      ]
     },
     "metadata": {
      "needs_background": "light"
     },
     "output_type": "display_data"
    }
   ],
   "source": [
    "# compare Algorithms\n",
    "fig = plt.figure(figsize=(15, 7))\n",
    "plt.boxplot(results, labels=names)\n",
    "plt.title('Algorithm Comparison')\n",
    "plt.show()"
   ]
  },
  {
   "cell_type": "code",
   "execution_count": 46,
   "id": "bd0590f8",
   "metadata": {},
   "outputs": [
    {
     "data": {
      "text/plain": [
       "\"\\nimport numpy as np\\nfrom sklearn.model_selection import RandomizedSearchCV\\n# Number of trees in random forest\\nn_estimators = [int(x) for x in np.linspace(start = 100, stop = 500, num = 10)]\\n# Number of features to consider at every split\\nmax_features = ['auto', 'sqrt','log2']\\n# Maximum number of levels in tree\\nmax_depth = [int(x) for x in np.linspace(10, 100,10)]\\n# Minimum number of samples required to split a node\\nmin_samples_split = [2, 5, 10,14]\\n# Minimum number of samples required at each leaf node\\nmin_samples_leaf = [1, 2, 4,6,8]\\n# Create the random grid\\nrandom_grid = {'n_estimators': n_estimators,\\n               'max_features': max_features,\\n               'max_depth': max_depth,\\n               'min_samples_split': min_samples_split,\\n               'min_samples_leaf': min_samples_leaf,\\n              'criterion':['entropy','gini']}\\nprint(random_grid)\""
      ]
     },
     "execution_count": 46,
     "metadata": {},
     "output_type": "execute_result"
    }
   ],
   "source": [
    "\"\"\"\n",
    "import numpy as np\n",
    "from sklearn.model_selection import RandomizedSearchCV\n",
    "# Number of trees in random forest\n",
    "n_estimators = [int(x) for x in np.linspace(start = 100, stop = 500, num = 10)]\n",
    "# Number of features to consider at every split\n",
    "max_features = ['auto', 'sqrt','log2']\n",
    "# Maximum number of levels in tree\n",
    "max_depth = [int(x) for x in np.linspace(10, 100,10)]\n",
    "# Minimum number of samples required to split a node\n",
    "min_samples_split = [2, 5, 10,14]\n",
    "# Minimum number of samples required at each leaf node\n",
    "min_samples_leaf = [1, 2, 4,6,8]\n",
    "# Create the random grid\n",
    "random_grid = {'n_estimators': n_estimators,\n",
    "               'max_features': max_features,\n",
    "               'max_depth': max_depth,\n",
    "               'min_samples_split': min_samples_split,\n",
    "               'min_samples_leaf': min_samples_leaf,\n",
    "              'criterion':['entropy','gini']}\n",
    "print(random_grid)\"\"\""
   ]
  },
  {
   "cell_type": "code",
   "execution_count": 47,
   "id": "2415a2f1",
   "metadata": {},
   "outputs": [
    {
     "data": {
      "text/plain": [
       "'\\nrf=RandomForestClassifier()\\nrf_randomcv=RandomizedSearchCV(estimator=rf,param_distributions=random_grid,n_iter=100,cv=3,verbose=2,\\n                               random_state=100,n_jobs=-1)\\n### fit the randomized model\\nrf_randomcv.fit(x_train,y_train)'"
      ]
     },
     "execution_count": 47,
     "metadata": {},
     "output_type": "execute_result"
    }
   ],
   "source": [
    "\"\"\"\n",
    "rf=RandomForestClassifier()\n",
    "rf_randomcv=RandomizedSearchCV(estimator=rf,param_distributions=random_grid,n_iter=100,cv=3,verbose=2,\n",
    "                               random_state=100,n_jobs=-1)\n",
    "### fit the randomized model\n",
    "rf_randomcv.fit(x_train,y_train)\"\"\""
   ]
  },
  {
   "cell_type": "code",
   "execution_count": 48,
   "id": "37a56060",
   "metadata": {},
   "outputs": [],
   "source": [
    "# rf_randomcv.best_params_"
   ]
  },
  {
   "cell_type": "code",
   "execution_count": 49,
   "id": "899f1d75",
   "metadata": {},
   "outputs": [],
   "source": [
    "#rf_randomcv"
   ]
  },
  {
   "cell_type": "code",
   "execution_count": 50,
   "id": "e62b1f0e",
   "metadata": {},
   "outputs": [],
   "source": [
    "#best_random_grid=rf_randomcv.best_estimator_"
   ]
  },
  {
   "cell_type": "code",
   "execution_count": 51,
   "id": "95a23cd7",
   "metadata": {},
   "outputs": [
    {
     "data": {
      "text/plain": [
       "'from sklearn.metrics import accuracy_score\\ny_pred=best_random_grid.predict(X_test)\\nprint(confusion_matrix(y_test,y_pred))\\nprint(\"Accuracy Score {}\".format(accuracy_score(y_test,y_pred)))\\nprint(\"Classification report: {}\".format(classification_report(y_test,y_pred)))'"
      ]
     },
     "execution_count": 51,
     "metadata": {},
     "output_type": "execute_result"
    }
   ],
   "source": [
    "\"\"\"from sklearn.metrics import accuracy_score\n",
    "y_pred=best_random_grid.predict(X_test)\n",
    "print(confusion_matrix(y_test,y_pred))\n",
    "print(\"Accuracy Score {}\".format(accuracy_score(y_test,y_pred)))\n",
    "print(\"Classification report: {}\".format(classification_report(y_test,y_pred)))\"\"\""
   ]
  },
  {
   "cell_type": "markdown",
   "id": "822afc02",
   "metadata": {},
   "source": [
    "### Grid Search CV"
   ]
  },
  {
   "cell_type": "code",
   "execution_count": 52,
   "id": "6f1d1e64",
   "metadata": {},
   "outputs": [],
   "source": [
    "#rf_randomcv.best_params_"
   ]
  },
  {
   "cell_type": "code",
   "execution_count": 53,
   "id": "22388c00",
   "metadata": {},
   "outputs": [
    {
     "data": {
      "text/plain": [
       "\"from sklearn.model_selection import GridSearchCV\\n\\nparam_grid = {\\n    'criterion': [rf_randomcv.best_params_['criterion']],\\n    'max_depth': [rf_randomcv.best_params_['max_depth']],\\n    'max_features': [rf_randomcv.best_params_['max_features']],\\n    'min_samples_leaf': [rf_randomcv.best_params_['min_samples_leaf'], \\n                         rf_randomcv.best_params_['min_samples_leaf']+2, \\n                         rf_randomcv.best_params_['min_samples_leaf'] + 4],\\n    'min_samples_split': [rf_randomcv.best_params_['min_samples_split'] - 2,\\n                          rf_randomcv.best_params_['min_samples_split'] - 1,\\n                          rf_randomcv.best_params_['min_samples_split'], \\n                          rf_randomcv.best_params_['min_samples_split'] +1,\\n                          rf_randomcv.best_params_['min_samples_split'] + 2],\\n    'n_estimators': [rf_randomcv.best_params_['n_estimators'] - 200, rf_randomcv.best_params_['n_estimators'] - 100, \\n                     rf_randomcv.best_params_['n_estimators'], \\n                     rf_randomcv.best_params_['n_estimators'] + 100, rf_randomcv.best_params_['n_estimators'] + 200]\\n}\\n\\nprint(param_grid)\""
      ]
     },
     "execution_count": 53,
     "metadata": {},
     "output_type": "execute_result"
    }
   ],
   "source": [
    "\"\"\"from sklearn.model_selection import GridSearchCV\n",
    "\n",
    "param_grid = {\n",
    "    'criterion': [rf_randomcv.best_params_['criterion']],\n",
    "    'max_depth': [rf_randomcv.best_params_['max_depth']],\n",
    "    'max_features': [rf_randomcv.best_params_['max_features']],\n",
    "    'min_samples_leaf': [rf_randomcv.best_params_['min_samples_leaf'], \n",
    "                         rf_randomcv.best_params_['min_samples_leaf']+2, \n",
    "                         rf_randomcv.best_params_['min_samples_leaf'] + 4],\n",
    "    'min_samples_split': [rf_randomcv.best_params_['min_samples_split'] - 2,\n",
    "                          rf_randomcv.best_params_['min_samples_split'] - 1,\n",
    "                          rf_randomcv.best_params_['min_samples_split'], \n",
    "                          rf_randomcv.best_params_['min_samples_split'] +1,\n",
    "                          rf_randomcv.best_params_['min_samples_split'] + 2],\n",
    "    'n_estimators': [rf_randomcv.best_params_['n_estimators'] - 200, rf_randomcv.best_params_['n_estimators'] - 100, \n",
    "                     rf_randomcv.best_params_['n_estimators'], \n",
    "                     rf_randomcv.best_params_['n_estimators'] + 100, rf_randomcv.best_params_['n_estimators'] + 200]\n",
    "}\n",
    "\n",
    "print(param_grid)\"\"\""
   ]
  },
  {
   "cell_type": "code",
   "execution_count": null,
   "id": "db17135a",
   "metadata": {},
   "outputs": [],
   "source": [
    "#### Fit the grid_search to the data\n",
    "\"\"\"rf=RandomForestClassifier()\n",
    "grid_search=GridSearchCV(estimator=rf,param_grid=param_grid,cv=10,n_jobs=-1,verbose=2)\n",
    "grid_search.fit(X_train,y_train)\"\"\""
   ]
  },
  {
   "cell_type": "code",
   "execution_count": null,
   "id": "97755abf",
   "metadata": {},
   "outputs": [],
   "source": [
    "#grid_search.best_estimator_"
   ]
  },
  {
   "cell_type": "code",
   "execution_count": null,
   "id": "5cac88a7",
   "metadata": {},
   "outputs": [],
   "source": [
    "#best_grid=grid_search.best_estimator_"
   ]
  },
  {
   "cell_type": "code",
   "execution_count": null,
   "id": "e239bb77",
   "metadata": {},
   "outputs": [],
   "source": [
    "#best_grid"
   ]
  },
  {
   "cell_type": "code",
   "execution_count": null,
   "id": "ca80c5a2",
   "metadata": {},
   "outputs": [],
   "source": [
    "\"\"\"y_pred=best_grid.predict(X_test)\n",
    "print(confusion_matrix(y_test,y_pred))\n",
    "print(\"Accuracy Score {}\".format(accuracy_score(y_test,y_pred)))\n",
    "print(\"Classification report: {}\".format(classification_report(y_test,y_pred)))\"\"\""
   ]
  },
  {
   "cell_type": "code",
   "execution_count": null,
   "id": "47415a92",
   "metadata": {},
   "outputs": [],
   "source": [
    "model = RandomForestClassifier(n_estimators=210, oob_score=True, n_jobs=-1, random_state=400)\n",
    "model.fit(X_train, Y_train)"
   ]
  },
  {
   "cell_type": "code",
   "execution_count": null,
   "id": "830781b5",
   "metadata": {},
   "outputs": [],
   "source": []
  }
 ],
 "metadata": {
  "kernelspec": {
   "display_name": "Python 3 (ipykernel)",
   "language": "python",
   "name": "python3"
  },
  "language_info": {
   "codemirror_mode": {
    "name": "ipython",
    "version": 3
   },
   "file_extension": ".py",
   "mimetype": "text/x-python",
   "name": "python",
   "nbconvert_exporter": "python",
   "pygments_lexer": "ipython3",
   "version": "3.9.6"
  }
 },
 "nbformat": 4,
 "nbformat_minor": 5
}
